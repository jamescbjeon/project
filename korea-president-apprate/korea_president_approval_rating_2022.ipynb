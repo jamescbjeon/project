{
 "cells": [
  {
   "cell_type": "markdown",
   "metadata": {},
   "source": [
    "# 대한민국 역대 대통령 지지율 비교"
   ]
  },
  {
   "cell_type": "markdown",
   "metadata": {},
   "source": [
    "## 1. Introduction\n",
    "\n",
    "   코로나19가 창궐하고 현 정부가 이를 잘 대응하면서 현 대통령의 지지율이 크게 증가했다고 합니다. 몇 주 뒤에는 잇다른 부동산 정책 실패로 지지율이 크게 떨어졌다고 합니다. 현 정권 지지율 둑이 구멍 뚫려 부정평가가 크게 증가한다는 뉴스도 있고, 지지층 결집하면서 콘크리트 지지율이 견고하다는 뉴스도 나옵니다. 대부분의 뉴스에는 지난 몇 주간의 지지율 변화 추이도와 역대 정권 지지도에 대한 짧막한 코멘트만 추가될 뿐, 이를 기존 지지율과 심도있게 분석하고 비교하는 기사를 찾는 것은 생각보다 쉬운 일이 아닙니다. \n",
    "\n",
    "만약 순수한 데이터 관점에서 현 정부의 지지도를 기존 조사와 비교한다면 어떤 결과를 얻을 수 있는지 궁금하였습니다. 정치적인 시각을 완전히 배제하고, 아래 짧은 비교를 통해 현 정부가 기존 정부 대비하여 얼마나 국민의 지지를 받고 있는지, 그리고 향후 어떤 지지율 변화를 겪을 것인지에 대한 간단한 예측을 해보려고 합니다."
   ]
  },
  {
   "cell_type": "markdown",
   "metadata": {},
   "source": [
    "## 2. Data source"
   ]
  },
  {
   "cell_type": "markdown",
   "metadata": {},
   "source": [
    "대통령 지지도 조사는 13대 노태우 대통령부터 시작되었습니다. 13대(노태우 전 대통령)부터 17대(이명박 전 대통령)까지는 매 3개월마다 한국갤럽에서 조사하였고, 18대(박근혜 전 대통령)부터는 한국갤럽과 리얼미터에서 매주 조사하여 발표하고 있습니다.\n",
    "\n",
    "한글 위키피디아 페이지에 역대 정부의 지지율 조사 결과가 잘 정리되어 있습니다 ([관련 링크](https://ko.wikipedia.org/wiki/%EB%8C%80%ED%95%9C%EB%AF%BC%EA%B5%AD%EC%9D%98_%EB%8C%80%ED%86%B5%EB%A0%B9_%EC%A7%80%EC%A7%80%EC%9C%A8)).\n",
    "\n",
    "해당 페이지를 Request를 이용하여 수집한 후 BeautifulSoup을 이용하여 Pandas DataFrame 형태로 가져오도록 합니다."
   ]
  },
  {
   "cell_type": "markdown",
   "metadata": {},
   "source": [
    "### 2.1. Import libraries"
   ]
  },
  {
   "cell_type": "code",
   "execution_count": 1,
   "metadata": {},
   "outputs": [],
   "source": [
    "import numpy as np\n",
    "import pandas as pd\n",
    "pd.set_option(\"display.max_rows\", None, \"display.max_columns\", None)  # 행열의 값이 최대로 표시되도록 설정\n",
    "\n",
    "import requests\n",
    "from bs4 import BeautifulSoup\n",
    "\n",
    "import matplotlib as mpl\n",
    "import matplotlib.pyplot as plt\n",
    "import seaborn as sns\n",
    "\n",
    "from sklearn.linear_model import LinearRegression  # 선형회귀 분석"
   ]
  },
  {
   "cell_type": "markdown",
   "metadata": {},
   "source": [
    "### 2.2. Data request"
   ]
  },
  {
   "cell_type": "code",
   "execution_count": 2,
   "metadata": {},
   "outputs": [
    {
     "data": {
      "text/plain": [
       "200"
      ]
     },
     "execution_count": 2,
     "metadata": {},
     "output_type": "execute_result"
    }
   ],
   "source": [
    "# 위키피디아 - 대한민국 역대 대통령 지지율\n",
    "url = 'https://ko.wikipedia.org/wiki/%EB%8C%80%ED%95%9C%EB%AF%BC%EA%B5%AD%EC%9D%98_%EB%8C%80%ED%86%B5%EB%A0%B9_%EC%A7%80%EC%A7%80%EC%9C%A8'\n",
    "\n",
    "res = requests.get(url)\n",
    "res.status_code      # 연결상태 확인. 200 ==> OK"
   ]
  },
  {
   "cell_type": "code",
   "execution_count": 3,
   "metadata": {},
   "outputs": [],
   "source": [
    "soup = BeautifulSoup(res.text, 'lxml')  # 페이지 내에서 텍스트만 soup 객체로 반환\n",
    "table = soup.find_all('table')   # soup에서 표만 table 객체로 반환"
   ]
  },
  {
   "cell_type": "markdown",
   "metadata": {},
   "source": [
    "### 2.3 Prepare functions"
   ]
  },
  {
   "cell_type": "code",
   "execution_count": 4,
   "metadata": {},
   "outputs": [],
   "source": [
    "# 역대 대통령 위키피디아 페이지 내 표 순서\n",
    "# 윤석열 2, 노태우 4, 김영삼 5, 김대중 6, 노무현 7, 이명박 8, 박근혜 9, 문재인 10\n",
    "president = {'SY_YOON': 2, \n",
    "             'TW_ROH': 3,\n",
    "             'YS_KIM': 4,\n",
    "             'DJ_KIM': 5, \n",
    "             'MH_ROH': 6,\n",
    "             'MB_LEE': 7, \n",
    "             'GH_PARK': 8,\n",
    "             'JI_MOON': 9\n",
    "             }  "
   ]
  },
  {
   "cell_type": "code",
   "execution_count": 5,
   "metadata": {},
   "outputs": [],
   "source": [
    "# 1. table에서 해당 대통령 지지율 표만 추출\n",
    "tablehtml = soup.find_all('table')[president['SY_YOON']]\n",
    "tmp = tablehtml.find_all('tr')\n",
    "\n",
    "allRows = tmp[4:]  # 위의 세개 행은 삭제 (불필요 정보)\n",
    "\n",
    "# 2. HTML - table head와 table data를 분리하여 list로 보관\n",
    "headers = [[header.get_text().strip() for header in row.find_all('th')] for row in allRows]\n",
    "results = [[data.get_text().strip() for data in row.find_all('td')] for row in allRows]\n",
    "\n",
    "# 3. 미조사 열로 인해 result 내 일부 행/열에서 빈 값이 발생. \n",
    "# rowsapn/colspan tag를 확인 후 해당 위치에 누락된 값을 포함\n",
    "colspan = []\n",
    "rowspan = []\n",
    "rowspan_max = -1\n",
    "\n",
    "for no, tr in enumerate(allRows):\n",
    "    for td_no, data in enumerate(tr.find_all('td')):\n",
    "        if data.has_attr(\"colspan\"):\n",
    "            colspan.append((no, td_no, int(data[\"colspan\"]), data.get_text().strip()))\n",
    "        elif data.has_attr(\"rowspan\"):\n",
    "            if no > rowspan_max:                    \n",
    "                rowspan.append((no, td_no, int(data[\"rowspan\"]), data.get_text().strip()))\n",
    "                rowspan_max = no + int(data[\"rowspan\"])\n",
    "            else:\n",
    "                rowspan.append((no, td_no + 1, int(data[\"rowspan\"]), data.get_text().strip()))\n",
    "\n",
    "if colspan:\n",
    "    for i in colspan:\n",
    "        # tr value of rowspan in present in 1th place in results\n",
    "        results[i[0]].insert(i[1] + 1, i[3])\n",
    "\n",
    "if rowspan:\n",
    "    for i in rowspan:\n",
    "        # tr value of rowspan in present in 1th place in results\n",
    "        for j in range(1, i[2]):\n",
    "            #- Add value in next tr.\n",
    "            results[i[0]+j].insert(i[1], i[3])\n",
    "\n",
    "df = pd.concat([pd.DataFrame(headers), pd.DataFrame(results)], axis=1)\n"
   ]
  },
  {
   "cell_type": "code",
   "execution_count": 6,
   "metadata": {},
   "outputs": [
    {
     "data": {
      "text/html": [
       "<div>\n",
       "<style scoped>\n",
       "    .dataframe tbody tr th:only-of-type {\n",
       "        vertical-align: middle;\n",
       "    }\n",
       "\n",
       "    .dataframe tbody tr th {\n",
       "        vertical-align: top;\n",
       "    }\n",
       "\n",
       "    .dataframe thead th {\n",
       "        text-align: right;\n",
       "    }\n",
       "</style>\n",
       "<table border=\"1\" class=\"dataframe\">\n",
       "  <thead>\n",
       "    <tr style=\"text-align: right;\">\n",
       "      <th></th>\n",
       "      <th>0</th>\n",
       "      <th>0</th>\n",
       "      <th>1</th>\n",
       "    </tr>\n",
       "  </thead>\n",
       "  <tbody>\n",
       "    <tr>\n",
       "      <th>0</th>\n",
       "      <td>2022년 5월 2주</td>\n",
       "      <td>52.0%</td>\n",
       "      <td>51.2%</td>\n",
       "    </tr>\n",
       "    <tr>\n",
       "      <th>1</th>\n",
       "      <td>2022년 5월 3주</td>\n",
       "      <td>51.0%</td>\n",
       "      <td>52.1%</td>\n",
       "    </tr>\n",
       "    <tr>\n",
       "      <th>2</th>\n",
       "      <td>2022년 5월 4주</td>\n",
       "      <td>미조사[5]</td>\n",
       "      <td>54.1%</td>\n",
       "    </tr>\n",
       "    <tr>\n",
       "      <th>3</th>\n",
       "      <td>2022년 6월 1주</td>\n",
       "      <td>53.0%</td>\n",
       "      <td>52.1%</td>\n",
       "    </tr>\n",
       "  </tbody>\n",
       "</table>\n",
       "</div>"
      ],
      "text/plain": [
       "             0       0      1\n",
       "0  2022년 5월 2주   52.0%  51.2%\n",
       "1  2022년 5월 3주   51.0%  52.1%\n",
       "2  2022년 5월 4주  미조사[5]  54.1%\n",
       "3  2022년 6월 1주   53.0%  52.1%"
      ]
     },
     "execution_count": 6,
     "metadata": {},
     "output_type": "execute_result"
    }
   ],
   "source": [
    "df"
   ]
  },
  {
   "cell_type": "code",
   "execution_count": 7,
   "metadata": {},
   "outputs": [],
   "source": [
    "# Pandas DataFrame 생성을 위한 표 데이터 추출\n",
    "def rate_extract(pcode):\n",
    "    \n",
    "    # 1. table에서 해당 대통령 지지율 표만 추출\n",
    "    tablehtml = soup.find_all('table')[president[pcode]]\n",
    "    tmp = tablehtml.find_all('tr')\n",
    "\n",
    "    allRows = tmp[4:]  # 위의 세개 행은 삭제 (불필요 정보)\n",
    "    \n",
    "    # 2. HTML - table head와 table data를 분리하여 list로 보관\n",
    "    headers = [[header.get_text().strip() for header in row.find_all('th')] for row in allRows]\n",
    "    results = [[data.get_text().strip() for data in row.find_all('td')] for row in allRows]\n",
    "    \n",
    "    # 3. 미조사 열로 인해 result 내 일부 행/열에서 빈 값이 발생. \n",
    "    # rowsapn/colspan tag를 확인 후 해당 위치에 누락된 값을 포함\n",
    "    colspan = []\n",
    "    rowspan = []\n",
    "    rowspan_max = -1\n",
    "\n",
    "    for no, tr in enumerate(allRows):\n",
    "        for td_no, data in enumerate(tr.find_all('td')):\n",
    "            if data.has_attr(\"colspan\"):\n",
    "                colspan.append((no, td_no, int(data[\"colspan\"]), data.get_text().strip()))\n",
    "            elif data.has_attr(\"rowspan\"):\n",
    "                if no > rowspan_max:                    \n",
    "                    rowspan.append((no, td_no, int(data[\"rowspan\"]), data.get_text().strip()))\n",
    "                    rowspan_max = no + int(data[\"rowspan\"])\n",
    "                else:\n",
    "                    rowspan.append((no, td_no + 1, int(data[\"rowspan\"]), data.get_text().strip()))\n",
    "                \n",
    "    if colspan:\n",
    "        for i in colspan:\n",
    "            # tr value of rowspan in present in 1th place in results\n",
    "            results[i[0]].insert(i[1] + 1, i[3])\n",
    "\n",
    "    if rowspan:\n",
    "        for i in rowspan:\n",
    "            # tr value of rowspan in present in 1th place in results\n",
    "            for j in range(1, i[2]):\n",
    "                #- Add value in next tr.\n",
    "                results[i[0]+j].insert(i[1], i[3])\n",
    "    \n",
    "    df = pd.concat([pd.DataFrame(headers), pd.DataFrame(results)], axis=1)\n",
    "    \n",
    "    return df"
   ]
  },
  {
   "cell_type": "code",
   "execution_count": 8,
   "metadata": {},
   "outputs": [],
   "source": [
    "# 위키피디아 페이지는 가독성을 위해 4개 혹은 5개 열로 정리되어 있음\n",
    "# 이를 일자와 지지율의 2개의 열로 Concatenate 필요\n",
    "def rate_concat(dataframe):\n",
    "    dataframe.columns = ['DATE', 'RATE'] * 5\n",
    "    df = pd.concat([dataframe.iloc[:, [0, 1]], \\\n",
    "                  dataframe.iloc[:, [2, 3]], \\\n",
    "                  dataframe.iloc[:, [4, 5]], \\\n",
    "                  dataframe.iloc[:, [6, 7]], \\\n",
    "                  dataframe.iloc[:, [8, 9]]], \\\n",
    "                 axis=0, ignore_index=True)\n",
    "    return df"
   ]
  },
  {
   "cell_type": "code",
   "execution_count": 9,
   "metadata": {},
   "outputs": [],
   "source": [
    "# 정렬된 DataFrame 내 Text를 Nan을 치환하여 분석을 위한 Float 값을 정리\n",
    "def rate_cleaning(dataframe, name):\n",
    "    dataframe.dropna(subset=['DATE'], inplace=True)\n",
    "    dataframe.RATE = np.where(dataframe.RATE.str.contains('미조사'), np.nan, dataframe.RATE)\n",
    "    dataframe.RATE = dataframe.RATE.str.replace('%', '').str.replace(',', '.').astype(float)\n",
    "    \n",
    "    dataframe.columns = ['DATE', name]\n",
    "    return dataframe"
   ]
  },
  {
   "cell_type": "markdown",
   "metadata": {},
   "source": [
    "### 2.4. Establish DataFrames"
   ]
  },
  {
   "cell_type": "markdown",
   "metadata": {},
   "source": [
    "#### 20대 윤석열 대통령"
   ]
  },
  {
   "cell_type": "code",
   "execution_count": 10,
   "metadata": {},
   "outputs": [],
   "source": [
    "name = 'SY_YOON'  # 20대 윤석열 대통령\n",
    "\n",
    "df = rate_extract(name)\n",
    "df.columns = ['DATE'] * 1 + ['GALO', 'REAL'] * 1  # 열 이름 할당, GALO: 한국갤럽 조사, REAL: 리얼미터 조사"
   ]
  },
  {
   "cell_type": "code",
   "execution_count": 11,
   "metadata": {},
   "outputs": [
    {
     "data": {
      "text/html": [
       "<div>\n",
       "<style scoped>\n",
       "    .dataframe tbody tr th:only-of-type {\n",
       "        vertical-align: middle;\n",
       "    }\n",
       "\n",
       "    .dataframe tbody tr th {\n",
       "        vertical-align: top;\n",
       "    }\n",
       "\n",
       "    .dataframe thead th {\n",
       "        text-align: right;\n",
       "    }\n",
       "</style>\n",
       "<table border=\"1\" class=\"dataframe\">\n",
       "  <thead>\n",
       "    <tr style=\"text-align: right;\">\n",
       "      <th></th>\n",
       "      <th>DATE</th>\n",
       "      <th>GALO</th>\n",
       "      <th>REAL</th>\n",
       "    </tr>\n",
       "  </thead>\n",
       "  <tbody>\n",
       "    <tr>\n",
       "      <th>0</th>\n",
       "      <td>2022년 5월 2주</td>\n",
       "      <td>52.0%</td>\n",
       "      <td>51.2%</td>\n",
       "    </tr>\n",
       "    <tr>\n",
       "      <th>1</th>\n",
       "      <td>2022년 5월 3주</td>\n",
       "      <td>51.0%</td>\n",
       "      <td>52.1%</td>\n",
       "    </tr>\n",
       "    <tr>\n",
       "      <th>2</th>\n",
       "      <td>2022년 5월 4주</td>\n",
       "      <td>미조사[5]</td>\n",
       "      <td>54.1%</td>\n",
       "    </tr>\n",
       "    <tr>\n",
       "      <th>3</th>\n",
       "      <td>2022년 6월 1주</td>\n",
       "      <td>53.0%</td>\n",
       "      <td>52.1%</td>\n",
       "    </tr>\n",
       "  </tbody>\n",
       "</table>\n",
       "</div>"
      ],
      "text/plain": [
       "          DATE    GALO   REAL\n",
       "0  2022년 5월 2주   52.0%  51.2%\n",
       "1  2022년 5월 3주   51.0%  52.1%\n",
       "2  2022년 5월 4주  미조사[5]  54.1%\n",
       "3  2022년 6월 1주   53.0%  52.1%"
      ]
     },
     "execution_count": 11,
     "metadata": {},
     "output_type": "execute_result"
    }
   ],
   "source": [
    "df.head()"
   ]
  },
  {
   "cell_type": "code",
   "execution_count": 12,
   "metadata": {},
   "outputs": [
    {
     "data": {
      "text/plain": [
       "(4, 3)"
      ]
     },
     "execution_count": 12,
     "metadata": {},
     "output_type": "execute_result"
    }
   ],
   "source": [
    "df.shape"
   ]
  },
  {
   "cell_type": "markdown",
   "metadata": {},
   "source": [
    "반환된 DataFrame 중 각 열은 아래와 같습니다. \n",
    "* DATE : 조사시간 (매주 조사)\n",
    "* GALO : 한국갤럽 조사 결과\n",
    "* REAL : 리얼미터 조사 결과\n",
    "\n",
    "한국갤럽의 경우, 매주 1000명을 대상으로 전문교육 받은 조사 인력이 개별 전화로 준비된 질문 후 답변 청취하여 지지도를 조사 합니다. 반면 리얼미터는 더 많은 대상을 ARS 기반으로 조사한다고 합니다. \n",
    "\n",
    "두 회사의 조사방법은 각각의 장단점이 있으나, 리얼미터의 방식이 좀 더 자동화되어 있기 때문에 데이터를 확인해보면 미조사 결과가 적고 산포도 좀 더 적은 편입니다. 다만 리얼미터는 18대 박근혜 전 대통령부터 시작된 반면, 한국갤럽은 13대 노태우 전 대통령부터 사용되었으므로 여기서는 동일한 잣대로 비교하기 위해 한국갤럽 데이터를 사용하도록 하겠습니다."
   ]
  },
  {
   "cell_type": "code",
   "execution_count": 13,
   "metadata": {},
   "outputs": [],
   "source": [
    "df.drop('REAL', axis=1, inplace=True)  # 리얼미터 조사결과 Drop. 필요 시, 'GALO'로 변경하여 확인 가능\n",
    "\n",
    "# df = pd.concat([df.iloc[:, [0, 4]], \\\n",
    "#                   df.iloc[:, [1, 5]], \\\n",
    "#                   df.iloc[:, [2, 6]], \\\n",
    "#                   df.iloc[:, [3, 7]]], \\\n",
    "#                  axis=0, ignore_index=True)\n",
    "\n",
    "df.rename(columns={'GALO':'RATE'}, inplace=True)\n",
    "\n",
    "df20 = rate_cleaning(df, name)"
   ]
  },
  {
   "cell_type": "code",
   "execution_count": 14,
   "metadata": {},
   "outputs": [
    {
     "data": {
      "text/html": [
       "<div>\n",
       "<style scoped>\n",
       "    .dataframe tbody tr th:only-of-type {\n",
       "        vertical-align: middle;\n",
       "    }\n",
       "\n",
       "    .dataframe tbody tr th {\n",
       "        vertical-align: top;\n",
       "    }\n",
       "\n",
       "    .dataframe thead th {\n",
       "        text-align: right;\n",
       "    }\n",
       "</style>\n",
       "<table border=\"1\" class=\"dataframe\">\n",
       "  <thead>\n",
       "    <tr style=\"text-align: right;\">\n",
       "      <th></th>\n",
       "      <th>DATE</th>\n",
       "      <th>SY_YOON</th>\n",
       "    </tr>\n",
       "  </thead>\n",
       "  <tbody>\n",
       "    <tr>\n",
       "      <th>0</th>\n",
       "      <td>2022년 5월 2주</td>\n",
       "      <td>52.0</td>\n",
       "    </tr>\n",
       "    <tr>\n",
       "      <th>1</th>\n",
       "      <td>2022년 5월 3주</td>\n",
       "      <td>51.0</td>\n",
       "    </tr>\n",
       "    <tr>\n",
       "      <th>2</th>\n",
       "      <td>2022년 5월 4주</td>\n",
       "      <td>NaN</td>\n",
       "    </tr>\n",
       "    <tr>\n",
       "      <th>3</th>\n",
       "      <td>2022년 6월 1주</td>\n",
       "      <td>53.0</td>\n",
       "    </tr>\n",
       "  </tbody>\n",
       "</table>\n",
       "</div>"
      ],
      "text/plain": [
       "          DATE  SY_YOON\n",
       "0  2022년 5월 2주     52.0\n",
       "1  2022년 5월 3주     51.0\n",
       "2  2022년 5월 4주      NaN\n",
       "3  2022년 6월 1주     53.0"
      ]
     },
     "execution_count": 14,
     "metadata": {},
     "output_type": "execute_result"
    }
   ],
   "source": [
    "df20.head(10)"
   ]
  },
  {
   "cell_type": "code",
   "execution_count": 15,
   "metadata": {},
   "outputs": [
    {
     "data": {
      "text/plain": [
       "<matplotlib.axes._subplots.AxesSubplot at 0x7f7dfe578be0>"
      ]
     },
     "execution_count": 15,
     "metadata": {},
     "output_type": "execute_result"
    },
    {
     "data": {
      "image/png": "[encoded data removed]",
      "text/plain": [
       "<Figure size 432x288 with 1 Axes>"
      ]
     },
     "metadata": {
      "needs_background": "light"
     },
     "output_type": "display_data"
    }
   ],
   "source": [
    "df20.plot()"
   ]
  },
  {
   "cell_type": "markdown",
   "metadata": {},
   "source": [
    "#### 13~17대 대통령 DataFrame 생성"
   ]
  },
  {
   "cell_type": "code",
   "execution_count": 16,
   "metadata": {},
   "outputs": [],
   "source": [
    "name = 'TW_ROH'  # 13대 대통령\n",
    "\n",
    "df = rate_extract(name)\n",
    "df = rate_concat(df)\n",
    "df = df.iloc[:18, :]  # 위키페이지 내 HTML 에러 존재. 해당 에러 제거\n",
    "df13 = rate_cleaning(df, name)"
   ]
  },
  {
   "cell_type": "code",
   "execution_count": 17,
   "metadata": {},
   "outputs": [],
   "source": [
    "name = 'YS_KIM'  # 14대 대통령\n",
    "\n",
    "df = rate_extract(name)\n",
    "df = rate_concat(df)\n",
    "df14 = rate_cleaning(df, name)"
   ]
  },
  {
   "cell_type": "code",
   "execution_count": 18,
   "metadata": {},
   "outputs": [],
   "source": [
    "name = 'DJ_KIM'  # 15대 대통령\n",
    "\n",
    "df = rate_extract(name)\n",
    "df = rate_concat(df)\n",
    "df15 = rate_cleaning(df, name)"
   ]
  },
  {
   "cell_type": "code",
   "execution_count": 19,
   "metadata": {},
   "outputs": [],
   "source": [
    "name = 'MH_ROH'  # 16대 대통령\n",
    "\n",
    "df = rate_extract(name)\n",
    "df = rate_concat(df)\n",
    "df16 = rate_cleaning(df, name)"
   ]
  },
  {
   "cell_type": "code",
   "execution_count": 20,
   "metadata": {},
   "outputs": [],
   "source": [
    "name = 'MB_LEE'  # 17대 대통령\n",
    "\n",
    "df = rate_extract(name)\n",
    "df = rate_concat(df)\n",
    "df17 = rate_cleaning(df, name)"
   ]
  },
  {
   "cell_type": "code",
   "execution_count": 21,
   "metadata": {},
   "outputs": [
    {
     "data": {
      "text/html": [
       "<div>\n",
       "<style scoped>\n",
       "    .dataframe tbody tr th:only-of-type {\n",
       "        vertical-align: middle;\n",
       "    }\n",
       "\n",
       "    .dataframe tbody tr th {\n",
       "        vertical-align: top;\n",
       "    }\n",
       "\n",
       "    .dataframe thead th {\n",
       "        text-align: right;\n",
       "    }\n",
       "</style>\n",
       "<table border=\"1\" class=\"dataframe\">\n",
       "  <thead>\n",
       "    <tr style=\"text-align: right;\">\n",
       "      <th></th>\n",
       "      <th>DATE</th>\n",
       "      <th>MB_LEE</th>\n",
       "    </tr>\n",
       "  </thead>\n",
       "  <tbody>\n",
       "    <tr>\n",
       "      <th>0</th>\n",
       "      <td>2008년 3월 ~ 5월</td>\n",
       "      <td>52.0</td>\n",
       "    </tr>\n",
       "    <tr>\n",
       "      <th>1</th>\n",
       "      <td>2008년 6월 ~ 8월</td>\n",
       "      <td>21.0</td>\n",
       "    </tr>\n",
       "    <tr>\n",
       "      <th>2</th>\n",
       "      <td>2008년 9월 ~ 11월</td>\n",
       "      <td>24.0</td>\n",
       "    </tr>\n",
       "    <tr>\n",
       "      <th>3</th>\n",
       "      <td>2008년 12월 ~ 2009년 2월</td>\n",
       "      <td>32.0</td>\n",
       "    </tr>\n",
       "    <tr>\n",
       "      <th>4</th>\n",
       "      <td>2009년 3월 ~ 5월</td>\n",
       "      <td>34.0</td>\n",
       "    </tr>\n",
       "  </tbody>\n",
       "</table>\n",
       "</div>"
      ],
      "text/plain": [
       "                   DATE  MB_LEE\n",
       "0         2008년 3월 ~ 5월    52.0\n",
       "1         2008년 6월 ~ 8월    21.0\n",
       "2        2008년 9월 ~ 11월    24.0\n",
       "3  2008년 12월 ~ 2009년 2월    32.0\n",
       "4         2009년 3월 ~ 5월    34.0"
      ]
     },
     "execution_count": 21,
     "metadata": {},
     "output_type": "execute_result"
    }
   ],
   "source": [
    "df17.head()  # 17대 대통령 결과 --> 매 분기 조사"
   ]
  },
  {
   "cell_type": "markdown",
   "metadata": {},
   "source": [
    "#### 18대 박근혜 대통령"
   ]
  },
  {
   "cell_type": "code",
   "execution_count": 22,
   "metadata": {},
   "outputs": [],
   "source": [
    "name = 'GH_PARK'\n",
    "\n",
    "df = rate_extract(name)\n",
    "df.columns = ['DATE', 'GALO', 'REAL'] * 4\n",
    "df.drop('REAL', axis=1, inplace=True)\n",
    "\n",
    "df = pd.concat([df.iloc[:, [0, 1]], \\\n",
    "                  df.iloc[:, [2, 3]], \\\n",
    "                  df.iloc[:, [4, 5]], \\\n",
    "                  df.iloc[:, [6, 7]]], \\\n",
    "                 axis=0, ignore_index=True)\n",
    "df.rename(columns={'GALO':'RATE'}, inplace=True)\n",
    "\n",
    "df18 = rate_cleaning(df, name)"
   ]
  },
  {
   "cell_type": "code",
   "execution_count": 23,
   "metadata": {
    "scrolled": false
   },
   "outputs": [
    {
     "data": {
      "text/html": [
       "<div>\n",
       "<style scoped>\n",
       "    .dataframe tbody tr th:only-of-type {\n",
       "        vertical-align: middle;\n",
       "    }\n",
       "\n",
       "    .dataframe tbody tr th {\n",
       "        vertical-align: top;\n",
       "    }\n",
       "\n",
       "    .dataframe thead th {\n",
       "        text-align: right;\n",
       "    }\n",
       "</style>\n",
       "<table border=\"1\" class=\"dataframe\">\n",
       "  <thead>\n",
       "    <tr style=\"text-align: right;\">\n",
       "      <th></th>\n",
       "      <th>DATE</th>\n",
       "      <th>GH_PARK</th>\n",
       "    </tr>\n",
       "  </thead>\n",
       "  <tbody>\n",
       "    <tr>\n",
       "      <th>193</th>\n",
       "      <td>2016년 11월 3주</td>\n",
       "      <td>5.0</td>\n",
       "    </tr>\n",
       "    <tr>\n",
       "      <th>194</th>\n",
       "      <td>2016년 11월 4주</td>\n",
       "      <td>4.0</td>\n",
       "    </tr>\n",
       "    <tr>\n",
       "      <th>195</th>\n",
       "      <td>2016년 11월 5주</td>\n",
       "      <td>NaN</td>\n",
       "    </tr>\n",
       "    <tr>\n",
       "      <th>196</th>\n",
       "      <td>2016년 12월 1주</td>\n",
       "      <td>4.0</td>\n",
       "    </tr>\n",
       "    <tr>\n",
       "      <th>197</th>\n",
       "      <td>2016년 12월 2주</td>\n",
       "      <td>5.0</td>\n",
       "    </tr>\n",
       "  </tbody>\n",
       "</table>\n",
       "</div>"
      ],
      "text/plain": [
       "             DATE  GH_PARK\n",
       "193  2016년 11월 3주      5.0\n",
       "194  2016년 11월 4주      4.0\n",
       "195  2016년 11월 5주      NaN\n",
       "196  2016년 12월 1주      4.0\n",
       "197  2016년 12월 2주      5.0"
      ]
     },
     "execution_count": 23,
     "metadata": {},
     "output_type": "execute_result"
    }
   ],
   "source": [
    "df18.tail()  # 18대 대통령 결과 --> 매주 조사"
   ]
  },
  {
   "cell_type": "markdown",
   "metadata": {},
   "source": [
    "#### 19대 문재인 대통령"
   ]
  },
  {
   "cell_type": "code",
   "execution_count": 24,
   "metadata": {},
   "outputs": [],
   "source": [
    "name = 'JI_MOON'  # 19대 대통령\n",
    "\n",
    "df = rate_extract(name)\n",
    "df.columns = ['DATE'] * 5 + ['GALO', 'REAL'] * 5  # 열 이름 할당, GALO: 한국갤럽 조사, REAL: 리얼미터 조사"
   ]
  },
  {
   "cell_type": "code",
   "execution_count": 25,
   "metadata": {},
   "outputs": [],
   "source": [
    "name = 'JI_MOON'\n",
    "\n",
    "df = rate_extract(name)\n",
    "df.columns = ['DATE'] * 5 + ['GALO', 'REAL'] * 5  # 열 이름 할당, GALO: 한국갤럽 조사, REAL: 리얼미터 조사\n",
    "df.drop('REAL', axis=1, inplace=True)\n",
    "\n",
    "df = pd.concat([df.iloc[:, [0, 5]], \\\n",
    "                df.iloc[:, [1, 6]], \\\n",
    "                df.iloc[:, [2, 7]], \\\n",
    "                df.iloc[:, [3, 8]], \\\n",
    "                df.iloc[:, [4, 9]]], \\\n",
    "                axis=0, ignore_index=True)\n",
    "df.rename(columns={'GALO':'RATE'}, inplace=True)\n",
    "\n",
    "df19 = rate_cleaning(df, name)"
   ]
  },
  {
   "cell_type": "code",
   "execution_count": 26,
   "metadata": {
    "scrolled": false
   },
   "outputs": [
    {
     "data": {
      "text/html": [
       "<div>\n",
       "<style scoped>\n",
       "    .dataframe tbody tr th:only-of-type {\n",
       "        vertical-align: middle;\n",
       "    }\n",
       "\n",
       "    .dataframe tbody tr th {\n",
       "        vertical-align: top;\n",
       "    }\n",
       "\n",
       "    .dataframe thead th {\n",
       "        text-align: right;\n",
       "    }\n",
       "</style>\n",
       "<table border=\"1\" class=\"dataframe\">\n",
       "  <thead>\n",
       "    <tr style=\"text-align: right;\">\n",
       "      <th></th>\n",
       "      <th>DATE</th>\n",
       "      <th>JI_MOON</th>\n",
       "    </tr>\n",
       "  </thead>\n",
       "  <tbody>\n",
       "    <tr>\n",
       "      <th>255</th>\n",
       "      <td>2022년 4월 1주</td>\n",
       "      <td>44.0</td>\n",
       "    </tr>\n",
       "    <tr>\n",
       "      <th>256</th>\n",
       "      <td>2022년 4월 2주</td>\n",
       "      <td>43.0</td>\n",
       "    </tr>\n",
       "    <tr>\n",
       "      <th>257</th>\n",
       "      <td>2022년 4월 3주</td>\n",
       "      <td>44.0</td>\n",
       "    </tr>\n",
       "    <tr>\n",
       "      <th>258</th>\n",
       "      <td>2022년 4월 4주</td>\n",
       "      <td>45.0</td>\n",
       "    </tr>\n",
       "    <tr>\n",
       "      <th>259</th>\n",
       "      <td>2022년 5월 1주</td>\n",
       "      <td>45.0</td>\n",
       "    </tr>\n",
       "  </tbody>\n",
       "</table>\n",
       "</div>"
      ],
      "text/plain": [
       "            DATE  JI_MOON\n",
       "255  2022년 4월 1주     44.0\n",
       "256  2022년 4월 2주     43.0\n",
       "257  2022년 4월 3주     44.0\n",
       "258  2022년 4월 4주     45.0\n",
       "259  2022년 5월 1주     45.0"
      ]
     },
     "execution_count": 26,
     "metadata": {},
     "output_type": "execute_result"
    }
   ],
   "source": [
    "df19.tail()  # 19대 대통령 결과 --> 매주 조사"
   ]
  },
  {
   "cell_type": "markdown",
   "metadata": {},
   "source": [
    "## 3. Methodology"
   ]
  },
  {
   "cell_type": "markdown",
   "metadata": {},
   "source": [
    "13대부터 19대 대통령까지 DataFrame을 위키피디아로부터 추출해 내었으므로 결과물에 대해 확인해 보도록 합시다."
   ]
  },
  {
   "cell_type": "code",
   "execution_count": 27,
   "metadata": {},
   "outputs": [],
   "source": [
    "# 18, 19, 20대 대통령 지지율 비교\n",
    "apprate_week = pd.concat([df20, df19, df18], axis=1)\n",
    "apprate_week.index.name = 'WEEK'\n",
    "apprate_week.drop('DATE', axis=1, inplace=True)"
   ]
  },
  {
   "cell_type": "markdown",
   "metadata": {},
   "source": [
    "문재인 대통령의 경우, null data가 크게 나오는 이유는 아직 퇴임하지 않아 데이터가 계속 추가될 예정이기 때문입니다.\n",
    "\n",
    "이외의 null data 값은 모두 미조사에 의한 것입니다. 한국갤럽 조사는 조사원에 의존하기 때문에 명절 등 연휴가 있거나 선거로 인한 여론조사 결과 발표가 제한될 경우, 조사를 하지않습니다. 리얼미터 데이터를 사용하면 null 값이 훨씬 줄어들게 됩니다 (조사 방법 차이). 현재 Index값이 Week order를 반영하는 유의미한 값이고, 해당 데이터가 groupby를 이용해 분기별 데이터로 치환될 예정이므로 별도 dropna 없이 유지하도록 합시다."
   ]
  },
  {
   "cell_type": "code",
   "execution_count": 28,
   "metadata": {},
   "outputs": [
    {
     "data": {
      "text/plain": [
       "SY_YOON    257\n",
       "JI_MOON     27\n",
       "GH_PARK     78\n",
       "dtype: int64"
      ]
     },
     "execution_count": 28,
     "metadata": {},
     "output_type": "execute_result"
    }
   ],
   "source": [
    "apprate_week.isna().sum()"
   ]
  },
  {
   "cell_type": "code",
   "execution_count": 29,
   "metadata": {},
   "outputs": [
    {
     "data": {
      "text/html": [
       "<div>\n",
       "<style scoped>\n",
       "    .dataframe tbody tr th:only-of-type {\n",
       "        vertical-align: middle;\n",
       "    }\n",
       "\n",
       "    .dataframe tbody tr th {\n",
       "        vertical-align: top;\n",
       "    }\n",
       "\n",
       "    .dataframe thead th {\n",
       "        text-align: right;\n",
       "    }\n",
       "</style>\n",
       "<table border=\"1\" class=\"dataframe\">\n",
       "  <thead>\n",
       "    <tr style=\"text-align: right;\">\n",
       "      <th></th>\n",
       "      <th>SY_YOON</th>\n",
       "      <th>JI_MOON</th>\n",
       "      <th>GH_PARK</th>\n",
       "    </tr>\n",
       "    <tr>\n",
       "      <th>WEEK</th>\n",
       "      <th></th>\n",
       "      <th></th>\n",
       "      <th></th>\n",
       "    </tr>\n",
       "  </thead>\n",
       "  <tbody>\n",
       "    <tr>\n",
       "      <th>0</th>\n",
       "      <td>52.0</td>\n",
       "      <td>NaN</td>\n",
       "      <td>NaN</td>\n",
       "    </tr>\n",
       "    <tr>\n",
       "      <th>1</th>\n",
       "      <td>51.0</td>\n",
       "      <td>NaN</td>\n",
       "      <td>NaN</td>\n",
       "    </tr>\n",
       "    <tr>\n",
       "      <th>2</th>\n",
       "      <td>NaN</td>\n",
       "      <td>NaN</td>\n",
       "      <td>NaN</td>\n",
       "    </tr>\n",
       "    <tr>\n",
       "      <th>3</th>\n",
       "      <td>53.0</td>\n",
       "      <td>84.0</td>\n",
       "      <td>44.0</td>\n",
       "    </tr>\n",
       "    <tr>\n",
       "      <th>4</th>\n",
       "      <td>NaN</td>\n",
       "      <td>82.0</td>\n",
       "      <td>41.0</td>\n",
       "    </tr>\n",
       "    <tr>\n",
       "      <th>5</th>\n",
       "      <td>NaN</td>\n",
       "      <td>83.0</td>\n",
       "      <td>41.0</td>\n",
       "    </tr>\n",
       "    <tr>\n",
       "      <th>6</th>\n",
       "      <td>NaN</td>\n",
       "      <td>79.0</td>\n",
       "      <td>44.0</td>\n",
       "    </tr>\n",
       "    <tr>\n",
       "      <th>7</th>\n",
       "      <td>NaN</td>\n",
       "      <td>83.0</td>\n",
       "      <td>48.0</td>\n",
       "    </tr>\n",
       "    <tr>\n",
       "      <th>8</th>\n",
       "      <td>NaN</td>\n",
       "      <td>80.0</td>\n",
       "      <td>46.0</td>\n",
       "    </tr>\n",
       "    <tr>\n",
       "      <th>9</th>\n",
       "      <td>NaN</td>\n",
       "      <td>74.0</td>\n",
       "      <td>50.0</td>\n",
       "    </tr>\n",
       "  </tbody>\n",
       "</table>\n",
       "</div>"
      ],
      "text/plain": [
       "      SY_YOON  JI_MOON  GH_PARK\n",
       "WEEK                           \n",
       "0        52.0      NaN      NaN\n",
       "1        51.0      NaN      NaN\n",
       "2         NaN      NaN      NaN\n",
       "3        53.0     84.0     44.0\n",
       "4         NaN     82.0     41.0\n",
       "5         NaN     83.0     41.0\n",
       "6         NaN     79.0     44.0\n",
       "7         NaN     83.0     48.0\n",
       "8         NaN     80.0     46.0\n",
       "9         NaN     74.0     50.0"
      ]
     },
     "execution_count": 29,
     "metadata": {},
     "output_type": "execute_result"
    }
   ],
   "source": [
    "apprate_week.head(10)"
   ]
  },
  {
   "cell_type": "code",
   "execution_count": 30,
   "metadata": {
    "scrolled": false
   },
   "outputs": [
    {
     "data": {
      "text/plain": [
       "<matplotlib.axes._subplots.AxesSubplot at 0x7f7dfe731850>"
      ]
     },
     "execution_count": 30,
     "metadata": {},
     "output_type": "execute_result"
    },
    {
     "data": {
      "image/png": "[encoded data removed]",
      "text/plain": [
       "<Figure size 432x288 with 1 Axes>"
      ]
     },
     "metadata": {
      "needs_background": "light"
     },
     "output_type": "display_data"
    }
   ],
   "source": [
    "apprate_week.plot(ylim=(0, 100))"
   ]
  },
  {
   "cell_type": "markdown",
   "metadata": {},
   "source": [
    "17대 이전에는 매 분기, 즉 3개월마다 지지도 조사를 했기 때문에 이후 결과를 같이 비교하기 위해서는 상기 데이터를 분기데이터로 변경해야 합니다."
   ]
  },
  {
   "cell_type": "code",
   "execution_count": 31,
   "metadata": {
    "scrolled": true
   },
   "outputs": [],
   "source": [
    "apprate_week['QT'] = apprate_week.index//13\n",
    "apprate_groupby_qt = apprate_week.groupby('QT').mean()  # Groupby로 분기별 평균 데이터 반환"
   ]
  },
  {
   "cell_type": "code",
   "execution_count": 32,
   "metadata": {
    "scrolled": true
   },
   "outputs": [
    {
     "data": {
      "text/plain": [
       "SY_YOON    19\n",
       "JI_MOON     0\n",
       "GH_PARK     4\n",
       "dtype: int64"
      ]
     },
     "execution_count": 32,
     "metadata": {},
     "output_type": "execute_result"
    }
   ],
   "source": [
    "apprate_groupby_qt.isna().sum()"
   ]
  },
  {
   "cell_type": "code",
   "execution_count": 33,
   "metadata": {},
   "outputs": [
    {
     "data": {
      "text/html": [
       "<div>\n",
       "<style scoped>\n",
       "    .dataframe tbody tr th:only-of-type {\n",
       "        vertical-align: middle;\n",
       "    }\n",
       "\n",
       "    .dataframe tbody tr th {\n",
       "        vertical-align: top;\n",
       "    }\n",
       "\n",
       "    .dataframe thead th {\n",
       "        text-align: right;\n",
       "    }\n",
       "</style>\n",
       "<table border=\"1\" class=\"dataframe\">\n",
       "  <thead>\n",
       "    <tr style=\"text-align: right;\">\n",
       "      <th></th>\n",
       "      <th>SY_YOON</th>\n",
       "      <th>JI_MOON</th>\n",
       "      <th>GH_PARK</th>\n",
       "    </tr>\n",
       "    <tr>\n",
       "      <th>QT</th>\n",
       "      <th></th>\n",
       "      <th></th>\n",
       "      <th></th>\n",
       "    </tr>\n",
       "  </thead>\n",
       "  <tbody>\n",
       "    <tr>\n",
       "      <th>0</th>\n",
       "      <td>52.0</td>\n",
       "      <td>79.700000</td>\n",
       "      <td>47.400000</td>\n",
       "    </tr>\n",
       "    <tr>\n",
       "      <th>1</th>\n",
       "      <td>NaN</td>\n",
       "      <td>72.666667</td>\n",
       "      <td>57.461538</td>\n",
       "    </tr>\n",
       "    <tr>\n",
       "      <th>2</th>\n",
       "      <td>NaN</td>\n",
       "      <td>69.636364</td>\n",
       "      <td>58.166667</td>\n",
       "    </tr>\n",
       "    <tr>\n",
       "      <th>3</th>\n",
       "      <td>NaN</td>\n",
       "      <td>72.333333</td>\n",
       "      <td>53.272727</td>\n",
       "    </tr>\n",
       "    <tr>\n",
       "      <th>4</th>\n",
       "      <td>NaN</td>\n",
       "      <td>70.083333</td>\n",
       "      <td>54.250000</td>\n",
       "    </tr>\n",
       "  </tbody>\n",
       "</table>\n",
       "</div>"
      ],
      "text/plain": [
       "    SY_YOON    JI_MOON    GH_PARK\n",
       "QT                               \n",
       "0      52.0  79.700000  47.400000\n",
       "1       NaN  72.666667  57.461538\n",
       "2       NaN  69.636364  58.166667\n",
       "3       NaN  72.333333  53.272727\n",
       "4       NaN  70.083333  54.250000"
      ]
     },
     "execution_count": 33,
     "metadata": {},
     "output_type": "execute_result"
    }
   ],
   "source": [
    "apprate_groupby_qt.head()"
   ]
  },
  {
   "cell_type": "markdown",
   "metadata": {},
   "source": [
    "18/19대 대통령 분기별 평균 지지도를 13~17대 대통령 지지도와 병합합니다."
   ]
  },
  {
   "cell_type": "code",
   "execution_count": 34,
   "metadata": {},
   "outputs": [],
   "source": [
    "apprate = pd.concat([apprate_groupby_qt, df17, df16, df15, df14, df13], axis=1)\n",
    "apprate.drop('DATE', axis=1, inplace=True)\n",
    "apprate = apprate.round(1)\n",
    "apprate.index.name = 'QUARTER'"
   ]
  },
  {
   "cell_type": "code",
   "execution_count": 35,
   "metadata": {},
   "outputs": [
    {
     "data": {
      "text/plain": [
       "SY_YOON    19\n",
       "JI_MOON     0\n",
       "GH_PARK     4\n",
       "MB_LEE      0\n",
       "MH_ROH      0\n",
       "DJ_KIM      0\n",
       "YS_KIM      0\n",
       "TW_ROH      6\n",
       "dtype: int64"
      ]
     },
     "execution_count": 35,
     "metadata": {},
     "output_type": "execute_result"
    }
   ],
   "source": [
    "apprate.isna().sum()"
   ]
  },
  {
   "cell_type": "code",
   "execution_count": 36,
   "metadata": {},
   "outputs": [
    {
     "data": {
      "text/html": [
       "<div>\n",
       "<style scoped>\n",
       "    .dataframe tbody tr th:only-of-type {\n",
       "        vertical-align: middle;\n",
       "    }\n",
       "\n",
       "    .dataframe tbody tr th {\n",
       "        vertical-align: top;\n",
       "    }\n",
       "\n",
       "    .dataframe thead th {\n",
       "        text-align: right;\n",
       "    }\n",
       "</style>\n",
       "<table border=\"1\" class=\"dataframe\">\n",
       "  <thead>\n",
       "    <tr style=\"text-align: right;\">\n",
       "      <th></th>\n",
       "      <th>SY_YOON</th>\n",
       "      <th>JI_MOON</th>\n",
       "      <th>GH_PARK</th>\n",
       "      <th>MB_LEE</th>\n",
       "      <th>MH_ROH</th>\n",
       "      <th>DJ_KIM</th>\n",
       "      <th>YS_KIM</th>\n",
       "      <th>TW_ROH</th>\n",
       "    </tr>\n",
       "    <tr>\n",
       "      <th>QUARTER</th>\n",
       "      <th></th>\n",
       "      <th></th>\n",
       "      <th></th>\n",
       "      <th></th>\n",
       "      <th></th>\n",
       "      <th></th>\n",
       "      <th></th>\n",
       "      <th></th>\n",
       "    </tr>\n",
       "  </thead>\n",
       "  <tbody>\n",
       "    <tr>\n",
       "      <th>0</th>\n",
       "      <td>52.0</td>\n",
       "      <td>79.7</td>\n",
       "      <td>47.4</td>\n",
       "      <td>52.0</td>\n",
       "      <td>60.0</td>\n",
       "      <td>71.0</td>\n",
       "      <td>71.0</td>\n",
       "      <td>29.0</td>\n",
       "    </tr>\n",
       "    <tr>\n",
       "      <th>1</th>\n",
       "      <td>NaN</td>\n",
       "      <td>72.7</td>\n",
       "      <td>57.5</td>\n",
       "      <td>21.0</td>\n",
       "      <td>40.0</td>\n",
       "      <td>62.0</td>\n",
       "      <td>83.0</td>\n",
       "      <td>57.0</td>\n",
       "    </tr>\n",
       "    <tr>\n",
       "      <th>2</th>\n",
       "      <td>NaN</td>\n",
       "      <td>69.6</td>\n",
       "      <td>58.2</td>\n",
       "      <td>24.0</td>\n",
       "      <td>29.0</td>\n",
       "      <td>56.0</td>\n",
       "      <td>83.0</td>\n",
       "      <td>53.0</td>\n",
       "    </tr>\n",
       "    <tr>\n",
       "      <th>3</th>\n",
       "      <td>NaN</td>\n",
       "      <td>72.3</td>\n",
       "      <td>53.3</td>\n",
       "      <td>32.0</td>\n",
       "      <td>22.0</td>\n",
       "      <td>63.0</td>\n",
       "      <td>59.0</td>\n",
       "      <td>41.0</td>\n",
       "    </tr>\n",
       "    <tr>\n",
       "      <th>4</th>\n",
       "      <td>NaN</td>\n",
       "      <td>70.1</td>\n",
       "      <td>54.2</td>\n",
       "      <td>34.0</td>\n",
       "      <td>25.0</td>\n",
       "      <td>60.0</td>\n",
       "      <td>55.0</td>\n",
       "      <td>45.0</td>\n",
       "    </tr>\n",
       "  </tbody>\n",
       "</table>\n",
       "</div>"
      ],
      "text/plain": [
       "         SY_YOON  JI_MOON  GH_PARK  MB_LEE  MH_ROH  DJ_KIM  YS_KIM  TW_ROH\n",
       "QUARTER                                                                   \n",
       "0           52.0     79.7     47.4    52.0    60.0    71.0    71.0    29.0\n",
       "1            NaN     72.7     57.5    21.0    40.0    62.0    83.0    57.0\n",
       "2            NaN     69.6     58.2    24.0    29.0    56.0    83.0    53.0\n",
       "3            NaN     72.3     53.3    32.0    22.0    63.0    59.0    41.0\n",
       "4            NaN     70.1     54.2    34.0    25.0    60.0    55.0    45.0"
      ]
     },
     "execution_count": 36,
     "metadata": {},
     "output_type": "execute_result"
    }
   ],
   "source": [
    "apprate.head()"
   ]
  },
  {
   "cell_type": "markdown",
   "metadata": {},
   "source": [
    "## 4. Result"
   ]
  },
  {
   "cell_type": "markdown",
   "metadata": {},
   "source": [
    "#### 4.1 Count and missing values\n",
    "\n",
    "대한민국 대통령 임기는 13대 노태우 정부부터 5년 단임으로 변경 후 유지 중이므로, 매 분기 데이터 확인 시 총 20개 데이터가 확보 됩니다.\n",
    "\n",
    "아직 임기 중인 문재인 대통령과 임기를 채우지 못한 박근혜 대통령을 제외하면 이명박 대통령부터 김영삼 대통령까지 모두 20개 데이터가 확인됩니다. 노태우 정부 때는 미조사 결과가 많은데 별도 코멘트가 위키피디아에 남아있지 않습니다. 아마 조사 초기라 정착되기까지 어려움이 있거나, 아직 군사정부 시대라 일부 제한이 있지 않았을까 추측해 봅니다."
   ]
  },
  {
   "cell_type": "code",
   "execution_count": 37,
   "metadata": {
    "scrolled": true
   },
   "outputs": [
    {
     "data": {
      "text/html": [
       "<div>\n",
       "<style scoped>\n",
       "    .dataframe tbody tr th:only-of-type {\n",
       "        vertical-align: middle;\n",
       "    }\n",
       "\n",
       "    .dataframe tbody tr th {\n",
       "        vertical-align: top;\n",
       "    }\n",
       "\n",
       "    .dataframe thead th {\n",
       "        text-align: right;\n",
       "    }\n",
       "</style>\n",
       "<table border=\"1\" class=\"dataframe\">\n",
       "  <thead>\n",
       "    <tr style=\"text-align: right;\">\n",
       "      <th></th>\n",
       "      <th>SY_YOON</th>\n",
       "      <th>JI_MOON</th>\n",
       "      <th>GH_PARK</th>\n",
       "      <th>MB_LEE</th>\n",
       "      <th>MH_ROH</th>\n",
       "      <th>DJ_KIM</th>\n",
       "      <th>YS_KIM</th>\n",
       "      <th>TW_ROH</th>\n",
       "    </tr>\n",
       "  </thead>\n",
       "  <tbody>\n",
       "    <tr>\n",
       "      <th>count</th>\n",
       "      <td>1.0</td>\n",
       "      <td>20.000000</td>\n",
       "      <td>16.000000</td>\n",
       "      <td>20.000000</td>\n",
       "      <td>20.000000</td>\n",
       "      <td>20.000000</td>\n",
       "      <td>20.000000</td>\n",
       "      <td>14.000000</td>\n",
       "    </tr>\n",
       "    <tr>\n",
       "      <th>mean</th>\n",
       "      <td>52.0</td>\n",
       "      <td>51.700000</td>\n",
       "      <td>40.543750</td>\n",
       "      <td>35.150000</td>\n",
       "      <td>27.350000</td>\n",
       "      <td>42.850000</td>\n",
       "      <td>39.550000</td>\n",
       "      <td>29.785714</td>\n",
       "    </tr>\n",
       "    <tr>\n",
       "      <th>std</th>\n",
       "      <td>NaN</td>\n",
       "      <td>13.868822</td>\n",
       "      <td>14.025452</td>\n",
       "      <td>10.074851</td>\n",
       "      <td>10.209773</td>\n",
       "      <td>15.023753</td>\n",
       "      <td>22.899035</td>\n",
       "      <td>14.342935</td>\n",
       "    </tr>\n",
       "    <tr>\n",
       "      <th>min</th>\n",
       "      <td>52.0</td>\n",
       "      <td>34.800000</td>\n",
       "      <td>4.500000</td>\n",
       "      <td>21.000000</td>\n",
       "      <td>12.000000</td>\n",
       "      <td>24.000000</td>\n",
       "      <td>6.000000</td>\n",
       "      <td>12.000000</td>\n",
       "    </tr>\n",
       "    <tr>\n",
       "      <th>25%</th>\n",
       "      <td>52.0</td>\n",
       "      <td>41.800000</td>\n",
       "      <td>35.650000</td>\n",
       "      <td>24.750000</td>\n",
       "      <td>22.750000</td>\n",
       "      <td>28.750000</td>\n",
       "      <td>28.000000</td>\n",
       "      <td>19.750000</td>\n",
       "    </tr>\n",
       "    <tr>\n",
       "      <th>50%</th>\n",
       "      <td>52.0</td>\n",
       "      <td>46.000000</td>\n",
       "      <td>42.850000</td>\n",
       "      <td>35.000000</td>\n",
       "      <td>27.000000</td>\n",
       "      <td>42.000000</td>\n",
       "      <td>36.500000</td>\n",
       "      <td>28.000000</td>\n",
       "    </tr>\n",
       "    <tr>\n",
       "      <th>75%</th>\n",
       "      <td>52.0</td>\n",
       "      <td>60.300000</td>\n",
       "      <td>48.875000</td>\n",
       "      <td>44.000000</td>\n",
       "      <td>30.000000</td>\n",
       "      <td>54.500000</td>\n",
       "      <td>55.000000</td>\n",
       "      <td>38.000000</td>\n",
       "    </tr>\n",
       "    <tr>\n",
       "      <th>max</th>\n",
       "      <td>52.0</td>\n",
       "      <td>79.700000</td>\n",
       "      <td>58.200000</td>\n",
       "      <td>52.000000</td>\n",
       "      <td>60.000000</td>\n",
       "      <td>71.000000</td>\n",
       "      <td>83.000000</td>\n",
       "      <td>57.000000</td>\n",
       "    </tr>\n",
       "  </tbody>\n",
       "</table>\n",
       "</div>"
      ],
      "text/plain": [
       "       SY_YOON    JI_MOON    GH_PARK     MB_LEE     MH_ROH     DJ_KIM  \\\n",
       "count      1.0  20.000000  16.000000  20.000000  20.000000  20.000000   \n",
       "mean      52.0  51.700000  40.543750  35.150000  27.350000  42.850000   \n",
       "std        NaN  13.868822  14.025452  10.074851  10.209773  15.023753   \n",
       "min       52.0  34.800000   4.500000  21.000000  12.000000  24.000000   \n",
       "25%       52.0  41.800000  35.650000  24.750000  22.750000  28.750000   \n",
       "50%       52.0  46.000000  42.850000  35.000000  27.000000  42.000000   \n",
       "75%       52.0  60.300000  48.875000  44.000000  30.000000  54.500000   \n",
       "max       52.0  79.700000  58.200000  52.000000  60.000000  71.000000   \n",
       "\n",
       "          YS_KIM     TW_ROH  \n",
       "count  20.000000  14.000000  \n",
       "mean   39.550000  29.785714  \n",
       "std    22.899035  14.342935  \n",
       "min     6.000000  12.000000  \n",
       "25%    28.000000  19.750000  \n",
       "50%    36.500000  28.000000  \n",
       "75%    55.000000  38.000000  \n",
       "max    83.000000  57.000000  "
      ]
     },
     "execution_count": 37,
     "metadata": {},
     "output_type": "execute_result"
    }
   ],
   "source": [
    "apprate.describe()"
   ]
  },
  {
   "cell_type": "markdown",
   "metadata": {},
   "source": [
    "#### 4.2 Mean\n",
    "\n",
    "지지도 평균으로 볼 때, 현 정부의 지지도는 상당히 높은 편입니다. 하지만 아직 집권이 끝나지 않아 집권 말기의 낮은 지지도가 취합되지 않음을 고려해야 합니다.\n",
    "\n",
    "평균 데이터 기준으로 김대중 정부, 박근혜 정부, 김영삼 정부 순으로 정권 지지도가 높았습니다. 반면 노무현 정부, 노태우 정부 순으로 정권 지지도가 낮았음을 확인할 수 있습니다."
   ]
  },
  {
   "cell_type": "code",
   "execution_count": 38,
   "metadata": {
    "scrolled": true
   },
   "outputs": [
    {
     "data": {
      "text/plain": [
       "SY_YOON    52.000000\n",
       "JI_MOON    51.700000\n",
       "DJ_KIM     42.850000\n",
       "GH_PARK    40.543750\n",
       "YS_KIM     39.550000\n",
       "MB_LEE     35.150000\n",
       "TW_ROH     29.785714\n",
       "MH_ROH     27.350000\n",
       "dtype: float64"
      ]
     },
     "execution_count": 38,
     "metadata": {},
     "output_type": "execute_result"
    }
   ],
   "source": [
    "apprate.mean().sort_values(ascending=False)"
   ]
  },
  {
   "cell_type": "code",
   "execution_count": 39,
   "metadata": {},
   "outputs": [
    {
     "data": {
      "text/html": [
       "<div>\n",
       "<style scoped>\n",
       "    .dataframe tbody tr th:only-of-type {\n",
       "        vertical-align: middle;\n",
       "    }\n",
       "\n",
       "    .dataframe tbody tr th {\n",
       "        vertical-align: top;\n",
       "    }\n",
       "\n",
       "    .dataframe thead th {\n",
       "        text-align: right;\n",
       "    }\n",
       "</style>\n",
       "<table border=\"1\" class=\"dataframe\">\n",
       "  <thead>\n",
       "    <tr style=\"text-align: right;\">\n",
       "      <th></th>\n",
       "      <th>SY_YOON</th>\n",
       "      <th>JI_MOON</th>\n",
       "      <th>GH_PARK</th>\n",
       "      <th>MB_LEE</th>\n",
       "      <th>MH_ROH</th>\n",
       "      <th>DJ_KIM</th>\n",
       "      <th>YS_KIM</th>\n",
       "      <th>TW_ROH</th>\n",
       "      <th>MAX</th>\n",
       "    </tr>\n",
       "    <tr>\n",
       "      <th>YEAR</th>\n",
       "      <th></th>\n",
       "      <th></th>\n",
       "      <th></th>\n",
       "      <th></th>\n",
       "      <th></th>\n",
       "      <th></th>\n",
       "      <th></th>\n",
       "      <th></th>\n",
       "      <th></th>\n",
       "    </tr>\n",
       "  </thead>\n",
       "  <tbody>\n",
       "    <tr>\n",
       "      <th>1</th>\n",
       "      <td>52.0</td>\n",
       "      <td>73.575</td>\n",
       "      <td>54.100</td>\n",
       "      <td>32.25</td>\n",
       "      <td>37.75</td>\n",
       "      <td>63.00</td>\n",
       "      <td>74.00</td>\n",
       "      <td>45.00</td>\n",
       "      <td>YS_KIM: 74.0</td>\n",
       "    </tr>\n",
       "    <tr>\n",
       "      <th>2</th>\n",
       "      <td>NaN</td>\n",
       "      <td>55.325</td>\n",
       "      <td>45.125</td>\n",
       "      <td>36.00</td>\n",
       "      <td>27.25</td>\n",
       "      <td>52.00</td>\n",
       "      <td>47.50</td>\n",
       "      <td>33.00</td>\n",
       "      <td>JI_MOON: 55.3</td>\n",
       "    </tr>\n",
       "    <tr>\n",
       "      <th>3</th>\n",
       "      <td>NaN</td>\n",
       "      <td>47.025</td>\n",
       "      <td>39.675</td>\n",
       "      <td>46.00</td>\n",
       "      <td>29.50</td>\n",
       "      <td>42.75</td>\n",
       "      <td>31.50</td>\n",
       "      <td>24.75</td>\n",
       "      <td>JI_MOON: 47.0</td>\n",
       "    </tr>\n",
       "    <tr>\n",
       "      <th>4</th>\n",
       "      <td>NaN</td>\n",
       "      <td>43.200</td>\n",
       "      <td>23.275</td>\n",
       "      <td>37.75</td>\n",
       "      <td>18.75</td>\n",
       "      <td>28.75</td>\n",
       "      <td>36.00</td>\n",
       "      <td>13.50</td>\n",
       "      <td>JI_MOON: 43.2</td>\n",
       "    </tr>\n",
       "    <tr>\n",
       "      <th>5</th>\n",
       "      <td>NaN</td>\n",
       "      <td>39.375</td>\n",
       "      <td>NaN</td>\n",
       "      <td>23.75</td>\n",
       "      <td>23.50</td>\n",
       "      <td>27.75</td>\n",
       "      <td>8.75</td>\n",
       "      <td>12.00</td>\n",
       "      <td>JI_MOON: 39.4</td>\n",
       "    </tr>\n",
       "  </tbody>\n",
       "</table>\n",
       "</div>"
      ],
      "text/plain": [
       "      SY_YOON  JI_MOON  GH_PARK  MB_LEE  MH_ROH  DJ_KIM  YS_KIM  TW_ROH  \\\n",
       "YEAR                                                                      \n",
       "1        52.0   73.575   54.100   32.25   37.75   63.00   74.00   45.00   \n",
       "2         NaN   55.325   45.125   36.00   27.25   52.00   47.50   33.00   \n",
       "3         NaN   47.025   39.675   46.00   29.50   42.75   31.50   24.75   \n",
       "4         NaN   43.200   23.275   37.75   18.75   28.75   36.00   13.50   \n",
       "5         NaN   39.375      NaN   23.75   23.50   27.75    8.75   12.00   \n",
       "\n",
       "                MAX  \n",
       "YEAR                 \n",
       "1      YS_KIM: 74.0  \n",
       "2     JI_MOON: 55.3  \n",
       "3     JI_MOON: 47.0  \n",
       "4     JI_MOON: 43.2  \n",
       "5     JI_MOON: 39.4  "
      ]
     },
     "execution_count": 39,
     "metadata": {},
     "output_type": "execute_result"
    }
   ],
   "source": [
    "apprate['YEAR'] = apprate.index // 4 + 1\n",
    "apprate_year = apprate.groupby(by=['YEAR']).mean()\n",
    "\n",
    "apprate_year['MAX'] = apprate_year.idxmax(axis=1) + ': ' + apprate_year.max(axis=1).map('{:,.1f}'.format).astype('str')\n",
    "\n",
    "apprate_year"
   ]
  },
  {
   "cell_type": "code",
   "execution_count": 40,
   "metadata": {},
   "outputs": [],
   "source": [
    "apprate.drop('YEAR', axis=1, inplace=True)"
   ]
  },
  {
   "cell_type": "markdown",
   "metadata": {},
   "source": [
    "#### 4.3 Standard deviation & Range\n",
    "\n",
    "지지도 산포 측면에서 김영삼 정부가 가장 큰 변화가 있었습니다.   \n",
    "이명박 정부 대비하면 표준 편차 및 최대-최소 차이가 2배 이상의 산포를 보입니다. 문민정부 출범 당시 상당한 기대와 지지를 받았습니다만, 정권 말기 IMF로 인한 지지율 감소가 원인이 아닐까 추측해 봅니다."
   ]
  },
  {
   "cell_type": "code",
   "execution_count": 41,
   "metadata": {},
   "outputs": [
    {
     "data": {
      "text/plain": [
       "YS_KIM     22.899035\n",
       "DJ_KIM     15.023753\n",
       "TW_ROH     14.342935\n",
       "GH_PARK    14.025452\n",
       "JI_MOON    13.868822\n",
       "MH_ROH     10.209773\n",
       "MB_LEE     10.074851\n",
       "SY_YOON          NaN\n",
       "dtype: float64"
      ]
     },
     "execution_count": 41,
     "metadata": {},
     "output_type": "execute_result"
    }
   ],
   "source": [
    "apprate.std().sort_values(ascending=False)"
   ]
  },
  {
   "cell_type": "code",
   "execution_count": 42,
   "metadata": {
    "scrolled": true
   },
   "outputs": [
    {
     "data": {
      "text/plain": [
       "YS_KIM     77.0\n",
       "GH_PARK    53.7\n",
       "MH_ROH     48.0\n",
       "DJ_KIM     47.0\n",
       "TW_ROH     45.0\n",
       "JI_MOON    44.9\n",
       "MB_LEE     31.0\n",
       "SY_YOON     0.0\n",
       "dtype: float64"
      ]
     },
     "execution_count": 42,
     "metadata": {},
     "output_type": "execute_result"
    }
   ],
   "source": [
    "(apprate.max()-apprate.min()).sort_values(ascending=False)"
   ]
  },
  {
   "cell_type": "markdown",
   "metadata": {},
   "source": [
    "#### 4.4 Max & min\n",
    "\n",
    "역대 가장 높은 지지율은 김영삼 정부 때입니다. 무려 83%나 되네요. 모두 집권 후 초반 지지율입니다. 당시 문민정부에 대한 기대가 얼마나 높았는지 간접적으로 알 수 있습니다.\n",
    "\n",
    "반면 이명박 정부 지지율은 가장 높을 때도 50%를 간신히 넘었습니다."
   ]
  },
  {
   "cell_type": "code",
   "execution_count": 43,
   "metadata": {},
   "outputs": [
    {
     "data": {
      "text/plain": [
       "YS_KIM     83.0\n",
       "JI_MOON    79.7\n",
       "DJ_KIM     71.0\n",
       "MH_ROH     60.0\n",
       "GH_PARK    58.2\n",
       "TW_ROH     57.0\n",
       "MB_LEE     52.0\n",
       "SY_YOON    52.0\n",
       "dtype: float64"
      ]
     },
     "execution_count": 43,
     "metadata": {},
     "output_type": "execute_result"
    }
   ],
   "source": [
    "apprate.max().sort_values(ascending=False)"
   ]
  },
  {
   "cell_type": "code",
   "execution_count": 44,
   "metadata": {},
   "outputs": [
    {
     "data": {
      "text/html": [
       "<div>\n",
       "<style scoped>\n",
       "    .dataframe tbody tr th:only-of-type {\n",
       "        vertical-align: middle;\n",
       "    }\n",
       "\n",
       "    .dataframe tbody tr th {\n",
       "        vertical-align: top;\n",
       "    }\n",
       "\n",
       "    .dataframe thead th {\n",
       "        text-align: right;\n",
       "    }\n",
       "</style>\n",
       "<table border=\"1\" class=\"dataframe\">\n",
       "  <thead>\n",
       "    <tr style=\"text-align: right;\">\n",
       "      <th></th>\n",
       "      <th>DATE</th>\n",
       "      <th>YS_KIM</th>\n",
       "    </tr>\n",
       "  </thead>\n",
       "  <tbody>\n",
       "    <tr>\n",
       "      <th>1</th>\n",
       "      <td>1993년 6월 ~ 8월</td>\n",
       "      <td>83.0</td>\n",
       "    </tr>\n",
       "    <tr>\n",
       "      <th>2</th>\n",
       "      <td>1993년 9월 ~ 11월</td>\n",
       "      <td>83.0</td>\n",
       "    </tr>\n",
       "  </tbody>\n",
       "</table>\n",
       "</div>"
      ],
      "text/plain": [
       "             DATE  YS_KIM\n",
       "1   1993년 6월 ~ 8월    83.0\n",
       "2  1993년 9월 ~ 11월    83.0"
      ]
     },
     "execution_count": 44,
     "metadata": {},
     "output_type": "execute_result"
    }
   ],
   "source": [
    "df14[df14.YS_KIM == df14.YS_KIM.max()]  # 14대 대통령 최대 지지율 시기"
   ]
  },
  {
   "cell_type": "code",
   "execution_count": 45,
   "metadata": {},
   "outputs": [
    {
     "data": {
      "text/html": [
       "<div>\n",
       "<style scoped>\n",
       "    .dataframe tbody tr th:only-of-type {\n",
       "        vertical-align: middle;\n",
       "    }\n",
       "\n",
       "    .dataframe tbody tr th {\n",
       "        vertical-align: top;\n",
       "    }\n",
       "\n",
       "    .dataframe thead th {\n",
       "        text-align: right;\n",
       "    }\n",
       "</style>\n",
       "<table border=\"1\" class=\"dataframe\">\n",
       "  <thead>\n",
       "    <tr style=\"text-align: right;\">\n",
       "      <th></th>\n",
       "      <th>DATE</th>\n",
       "      <th>MB_LEE</th>\n",
       "    </tr>\n",
       "  </thead>\n",
       "  <tbody>\n",
       "    <tr>\n",
       "      <th>0</th>\n",
       "      <td>2008년 3월 ~ 5월</td>\n",
       "      <td>52.0</td>\n",
       "    </tr>\n",
       "  </tbody>\n",
       "</table>\n",
       "</div>"
      ],
      "text/plain": [
       "            DATE  MB_LEE\n",
       "0  2008년 3월 ~ 5월    52.0"
      ]
     },
     "execution_count": 45,
     "metadata": {},
     "output_type": "execute_result"
    }
   ],
   "source": [
    "df17[df17.MB_LEE == df17.MB_LEE.max()]  # 17대 대통령 최대 지지율 시기"
   ]
  },
  {
   "cell_type": "markdown",
   "metadata": {},
   "source": [
    "역대 가장 낮은 지지율은 박근혜 정부와 김영삼 정부 때입니다. 각각 탄핵과 IMF라는 국가 위기로 인해 대통령 지지도가 크게 하락하고 국정운영에 무리가 있던 시기였습니다. 모두 정권 말기 때 모습입니다 (18대 DataFrame은 Weekly로 작성되었기 때문에 Quarter data와 일부 차이가 있습니다).\n",
    "\n"
   ]
  },
  {
   "cell_type": "code",
   "execution_count": 46,
   "metadata": {},
   "outputs": [
    {
     "data": {
      "text/plain": [
       "GH_PARK     4.5\n",
       "YS_KIM      6.0\n",
       "MH_ROH     12.0\n",
       "TW_ROH     12.0\n",
       "MB_LEE     21.0\n",
       "DJ_KIM     24.0\n",
       "JI_MOON    34.8\n",
       "SY_YOON    52.0\n",
       "dtype: float64"
      ]
     },
     "execution_count": 46,
     "metadata": {},
     "output_type": "execute_result"
    }
   ],
   "source": [
    "apprate.min().sort_values()"
   ]
  },
  {
   "cell_type": "code",
   "execution_count": 47,
   "metadata": {},
   "outputs": [
    {
     "data": {
      "text/html": [
       "<div>\n",
       "<style scoped>\n",
       "    .dataframe tbody tr th:only-of-type {\n",
       "        vertical-align: middle;\n",
       "    }\n",
       "\n",
       "    .dataframe tbody tr th {\n",
       "        vertical-align: top;\n",
       "    }\n",
       "\n",
       "    .dataframe thead th {\n",
       "        text-align: right;\n",
       "    }\n",
       "</style>\n",
       "<table border=\"1\" class=\"dataframe\">\n",
       "  <thead>\n",
       "    <tr style=\"text-align: right;\">\n",
       "      <th></th>\n",
       "      <th>DATE</th>\n",
       "      <th>YS_KIM</th>\n",
       "    </tr>\n",
       "  </thead>\n",
       "  <tbody>\n",
       "    <tr>\n",
       "      <th>19</th>\n",
       "      <td>1997년 12월 ~ 1998년 2월</td>\n",
       "      <td>6.0</td>\n",
       "    </tr>\n",
       "  </tbody>\n",
       "</table>\n",
       "</div>"
      ],
      "text/plain": [
       "                    DATE  YS_KIM\n",
       "19  1997년 12월 ~ 1998년 2월     6.0"
      ]
     },
     "execution_count": 47,
     "metadata": {},
     "output_type": "execute_result"
    }
   ],
   "source": [
    "df14[df14.YS_KIM == df14.YS_KIM.min()]   # 14대 대통령 최소 지지율 시기"
   ]
  },
  {
   "cell_type": "code",
   "execution_count": 48,
   "metadata": {},
   "outputs": [
    {
     "data": {
      "text/html": [
       "<div>\n",
       "<style scoped>\n",
       "    .dataframe tbody tr th:only-of-type {\n",
       "        vertical-align: middle;\n",
       "    }\n",
       "\n",
       "    .dataframe tbody tr th {\n",
       "        vertical-align: top;\n",
       "    }\n",
       "\n",
       "    .dataframe thead th {\n",
       "        text-align: right;\n",
       "    }\n",
       "</style>\n",
       "<table border=\"1\" class=\"dataframe\">\n",
       "  <thead>\n",
       "    <tr style=\"text-align: right;\">\n",
       "      <th></th>\n",
       "      <th>DATE</th>\n",
       "      <th>GH_PARK</th>\n",
       "    </tr>\n",
       "  </thead>\n",
       "  <tbody>\n",
       "    <tr>\n",
       "      <th>188</th>\n",
       "      <td>2016년 10월 2주</td>\n",
       "      <td>26.0</td>\n",
       "    </tr>\n",
       "    <tr>\n",
       "      <th>189</th>\n",
       "      <td>2016년 10월 3주</td>\n",
       "      <td>25.0</td>\n",
       "    </tr>\n",
       "    <tr>\n",
       "      <th>190</th>\n",
       "      <td>2016년 10월 4주</td>\n",
       "      <td>17.0</td>\n",
       "    </tr>\n",
       "    <tr>\n",
       "      <th>191</th>\n",
       "      <td>2016년 11월 1주</td>\n",
       "      <td>5.0</td>\n",
       "    </tr>\n",
       "    <tr>\n",
       "      <th>192</th>\n",
       "      <td>2016년 11월 2주</td>\n",
       "      <td>5.0</td>\n",
       "    </tr>\n",
       "    <tr>\n",
       "      <th>193</th>\n",
       "      <td>2016년 11월 3주</td>\n",
       "      <td>5.0</td>\n",
       "    </tr>\n",
       "    <tr>\n",
       "      <th>194</th>\n",
       "      <td>2016년 11월 4주</td>\n",
       "      <td>4.0</td>\n",
       "    </tr>\n",
       "    <tr>\n",
       "      <th>195</th>\n",
       "      <td>2016년 11월 5주</td>\n",
       "      <td>NaN</td>\n",
       "    </tr>\n",
       "    <tr>\n",
       "      <th>196</th>\n",
       "      <td>2016년 12월 1주</td>\n",
       "      <td>4.0</td>\n",
       "    </tr>\n",
       "    <tr>\n",
       "      <th>197</th>\n",
       "      <td>2016년 12월 2주</td>\n",
       "      <td>5.0</td>\n",
       "    </tr>\n",
       "  </tbody>\n",
       "</table>\n",
       "</div>"
      ],
      "text/plain": [
       "             DATE  GH_PARK\n",
       "188  2016년 10월 2주     26.0\n",
       "189  2016년 10월 3주     25.0\n",
       "190  2016년 10월 4주     17.0\n",
       "191  2016년 11월 1주      5.0\n",
       "192  2016년 11월 2주      5.0\n",
       "193  2016년 11월 3주      5.0\n",
       "194  2016년 11월 4주      4.0\n",
       "195  2016년 11월 5주      NaN\n",
       "196  2016년 12월 1주      4.0\n",
       "197  2016년 12월 2주      5.0"
      ]
     },
     "execution_count": 48,
     "metadata": {},
     "output_type": "execute_result"
    }
   ],
   "source": [
    "df18.tail(10)  # 18대 대통령 최소 지지율 시기"
   ]
  },
  {
   "cell_type": "markdown",
   "metadata": {},
   "source": [
    "#### 4.5 Trend\n",
    "\n",
    "분기별 대통령 지지도 변화는 아래와 같습니다. 대통령 지지도 변화는 모든 정권에서 집권 초기에는 높은 지지도로 출발하다 점차 지지율 하락을 겪는 모습을 보입니다.\n",
    "\n",
    "전반적으로 19대 현 정부의 지지율은 타 정부와 비교할 때 가장 높은 수준에서 계속 유지되고 있는 것으로 보입니다."
   ]
  },
  {
   "cell_type": "code",
   "execution_count": 49,
   "metadata": {},
   "outputs": [],
   "source": [
    "plt.style.use('fivethirtyeight')  # Fivethirtyeight 그래프 스타일 적용"
   ]
  },
  {
   "cell_type": "code",
   "execution_count": 50,
   "metadata": {},
   "outputs": [
    {
     "data": {
      "text/html": [
       "<div>\n",
       "<style scoped>\n",
       "    .dataframe tbody tr th:only-of-type {\n",
       "        vertical-align: middle;\n",
       "    }\n",
       "\n",
       "    .dataframe tbody tr th {\n",
       "        vertical-align: top;\n",
       "    }\n",
       "\n",
       "    .dataframe thead th {\n",
       "        text-align: right;\n",
       "    }\n",
       "</style>\n",
       "<table border=\"1\" class=\"dataframe\">\n",
       "  <thead>\n",
       "    <tr style=\"text-align: right;\">\n",
       "      <th></th>\n",
       "      <th>SY_YOON</th>\n",
       "      <th>JI_MOON</th>\n",
       "      <th>GH_PARK</th>\n",
       "      <th>MB_LEE</th>\n",
       "      <th>MH_ROH</th>\n",
       "      <th>DJ_KIM</th>\n",
       "      <th>YS_KIM</th>\n",
       "      <th>TW_ROH</th>\n",
       "    </tr>\n",
       "    <tr>\n",
       "      <th>QUARTER</th>\n",
       "      <th></th>\n",
       "      <th></th>\n",
       "      <th></th>\n",
       "      <th></th>\n",
       "      <th></th>\n",
       "      <th></th>\n",
       "      <th></th>\n",
       "      <th></th>\n",
       "    </tr>\n",
       "  </thead>\n",
       "  <tbody>\n",
       "    <tr>\n",
       "      <th>0</th>\n",
       "      <td>52.0</td>\n",
       "      <td>79.7</td>\n",
       "      <td>47.4</td>\n",
       "      <td>52.0</td>\n",
       "      <td>60.0</td>\n",
       "      <td>71.0</td>\n",
       "      <td>71.0</td>\n",
       "      <td>29.0</td>\n",
       "    </tr>\n",
       "    <tr>\n",
       "      <th>1</th>\n",
       "      <td>NaN</td>\n",
       "      <td>72.7</td>\n",
       "      <td>57.5</td>\n",
       "      <td>21.0</td>\n",
       "      <td>40.0</td>\n",
       "      <td>62.0</td>\n",
       "      <td>83.0</td>\n",
       "      <td>57.0</td>\n",
       "    </tr>\n",
       "    <tr>\n",
       "      <th>2</th>\n",
       "      <td>NaN</td>\n",
       "      <td>69.6</td>\n",
       "      <td>58.2</td>\n",
       "      <td>24.0</td>\n",
       "      <td>29.0</td>\n",
       "      <td>56.0</td>\n",
       "      <td>83.0</td>\n",
       "      <td>53.0</td>\n",
       "    </tr>\n",
       "    <tr>\n",
       "      <th>3</th>\n",
       "      <td>NaN</td>\n",
       "      <td>72.3</td>\n",
       "      <td>53.3</td>\n",
       "      <td>32.0</td>\n",
       "      <td>22.0</td>\n",
       "      <td>63.0</td>\n",
       "      <td>59.0</td>\n",
       "      <td>41.0</td>\n",
       "    </tr>\n",
       "    <tr>\n",
       "      <th>4</th>\n",
       "      <td>NaN</td>\n",
       "      <td>70.1</td>\n",
       "      <td>54.2</td>\n",
       "      <td>34.0</td>\n",
       "      <td>25.0</td>\n",
       "      <td>60.0</td>\n",
       "      <td>55.0</td>\n",
       "      <td>45.0</td>\n",
       "    </tr>\n",
       "  </tbody>\n",
       "</table>\n",
       "</div>"
      ],
      "text/plain": [
       "         SY_YOON  JI_MOON  GH_PARK  MB_LEE  MH_ROH  DJ_KIM  YS_KIM  TW_ROH\n",
       "QUARTER                                                                   \n",
       "0           52.0     79.7     47.4    52.0    60.0    71.0    71.0    29.0\n",
       "1            NaN     72.7     57.5    21.0    40.0    62.0    83.0    57.0\n",
       "2            NaN     69.6     58.2    24.0    29.0    56.0    83.0    53.0\n",
       "3            NaN     72.3     53.3    32.0    22.0    63.0    59.0    41.0\n",
       "4            NaN     70.1     54.2    34.0    25.0    60.0    55.0    45.0"
      ]
     },
     "execution_count": 50,
     "metadata": {},
     "output_type": "execute_result"
    }
   ],
   "source": [
    "apprate.head()"
   ]
  },
  {
   "cell_type": "code",
   "execution_count": 51,
   "metadata": {
    "scrolled": false
   },
   "outputs": [
    {
     "data": {
      "image/png": "[encoded data removed]",
      "text/plain": [
       "<Figure size 720x432 with 1 Axes>"
      ]
     },
     "metadata": {},
     "output_type": "display_data"
    }
   ],
   "source": [
    "fig = plt.figure(figsize=(10, 6))\n",
    "ax = fig.add_subplot(111)\n",
    "\n",
    "president_labels = ['#20. Yoon Suk-yeol', '#19. Moon Jae-in', '#18. Park Geun-hye', '#17. Lee Myung-bak', \\\n",
    "                    '#16. Roh Moo-hyun', '#15. Kim Dae-jung', '#14. Kim Young-sam', '#13. Roh Tae-woo']\n",
    "\n",
    "ax.plot(apprate.index, apprate.loc[:, 'SY_YOON'], marker='o', ls='-', linewidth=3)\n",
    "ax.plot(apprate.index, apprate.loc[:, 'JI_MOON':'TW_ROH'], ls='--', linewidth=1.5)\n",
    "\n",
    "ax.set_ylim(0, 100)\n",
    "ax.set_xlim(0, 20)\n",
    "ax.set_xticks(np.arange(2, 22, step=2))\n",
    "\n",
    "plt.legend((president_labels), fontsize=10)\n",
    "\n",
    "plt.title('Korea President Approving Rate Trend', fontsize=16)\n",
    "plt.xlabel('Quater', fontsize=12)\n",
    "plt.ylabel('President Approving Rate', fontsize=12)\n",
    "\n",
    "plt.show()"
   ]
  },
  {
   "cell_type": "markdown",
   "metadata": {},
   "source": [
    "현 정부와 이전 정부들을 비교해 보도록 합시다. 18대부터 13대 정부까지의 열을 바탕으로 평균, 최대, 최소값 열을 생성합니다."
   ]
  },
  {
   "cell_type": "code",
   "execution_count": 52,
   "metadata": {},
   "outputs": [],
   "source": [
    "start = 'JI_MOON' \n",
    "end = 'TW_ROH'\n",
    "apprate['MEAN'] = apprate.loc[:, start:end].mean(axis=1)\n",
    "apprate['MAX'] = apprate.loc[:, start:end].max(axis=1)\n",
    "apprate['MIN'] = apprate.loc[:, start:end].min(axis=1)"
   ]
  },
  {
   "cell_type": "code",
   "execution_count": 53,
   "metadata": {
    "scrolled": false
   },
   "outputs": [
    {
     "data": {
      "text/plain": [
       "<matplotlib.axes._subplots.AxesSubplot at 0x7f7dfe836ca0>"
      ]
     },
     "execution_count": 53,
     "metadata": {},
     "output_type": "execute_result"
    },
    {
     "data": {
      "image/png": "[encoded data removed]",
      "text/plain": [
       "<Figure size 432x288 with 1 Axes>"
      ]
     },
     "metadata": {},
     "output_type": "display_data"
    }
   ],
   "source": [
    "apprate[['SY_YOON', 'MEAN', 'MAX', 'MIN']].plot()"
   ]
  },
  {
   "cell_type": "markdown",
   "metadata": {},
   "source": [
    "#### 4.6 Linear Regression"
   ]
  },
  {
   "cell_type": "markdown",
   "metadata": {},
   "source": [
    "선형 분석을 위한 별도의 DataFrame을 생성합니다. X, Y값을 용이하게 지정하기 위해 Index를 Reset하여 별도의 열로 원복합니다."
   ]
  },
  {
   "cell_type": "code",
   "execution_count": 54,
   "metadata": {},
   "outputs": [],
   "source": [
    "app = apprate.reset_index()"
   ]
  },
  {
   "cell_type": "code",
   "execution_count": 55,
   "metadata": {},
   "outputs": [
    {
     "data": {
      "text/html": [
       "<div>\n",
       "<style scoped>\n",
       "    .dataframe tbody tr th:only-of-type {\n",
       "        vertical-align: middle;\n",
       "    }\n",
       "\n",
       "    .dataframe tbody tr th {\n",
       "        vertical-align: top;\n",
       "    }\n",
       "\n",
       "    .dataframe thead th {\n",
       "        text-align: right;\n",
       "    }\n",
       "</style>\n",
       "<table border=\"1\" class=\"dataframe\">\n",
       "  <thead>\n",
       "    <tr style=\"text-align: right;\">\n",
       "      <th></th>\n",
       "      <th>QUARTER</th>\n",
       "      <th>SY_YOON</th>\n",
       "      <th>JI_MOON</th>\n",
       "      <th>GH_PARK</th>\n",
       "      <th>MB_LEE</th>\n",
       "      <th>MH_ROH</th>\n",
       "      <th>DJ_KIM</th>\n",
       "      <th>YS_KIM</th>\n",
       "      <th>TW_ROH</th>\n",
       "      <th>MEAN</th>\n",
       "      <th>MAX</th>\n",
       "      <th>MIN</th>\n",
       "    </tr>\n",
       "  </thead>\n",
       "  <tbody>\n",
       "    <tr>\n",
       "      <th>0</th>\n",
       "      <td>0</td>\n",
       "      <td>52.0</td>\n",
       "      <td>79.7</td>\n",
       "      <td>47.4</td>\n",
       "      <td>52.0</td>\n",
       "      <td>60.0</td>\n",
       "      <td>71.0</td>\n",
       "      <td>71.0</td>\n",
       "      <td>29.0</td>\n",
       "      <td>58.585714</td>\n",
       "      <td>79.7</td>\n",
       "      <td>29.0</td>\n",
       "    </tr>\n",
       "    <tr>\n",
       "      <th>1</th>\n",
       "      <td>1</td>\n",
       "      <td>NaN</td>\n",
       "      <td>72.7</td>\n",
       "      <td>57.5</td>\n",
       "      <td>21.0</td>\n",
       "      <td>40.0</td>\n",
       "      <td>62.0</td>\n",
       "      <td>83.0</td>\n",
       "      <td>57.0</td>\n",
       "      <td>56.171429</td>\n",
       "      <td>83.0</td>\n",
       "      <td>21.0</td>\n",
       "    </tr>\n",
       "    <tr>\n",
       "      <th>2</th>\n",
       "      <td>2</td>\n",
       "      <td>NaN</td>\n",
       "      <td>69.6</td>\n",
       "      <td>58.2</td>\n",
       "      <td>24.0</td>\n",
       "      <td>29.0</td>\n",
       "      <td>56.0</td>\n",
       "      <td>83.0</td>\n",
       "      <td>53.0</td>\n",
       "      <td>53.257143</td>\n",
       "      <td>83.0</td>\n",
       "      <td>24.0</td>\n",
       "    </tr>\n",
       "    <tr>\n",
       "      <th>3</th>\n",
       "      <td>3</td>\n",
       "      <td>NaN</td>\n",
       "      <td>72.3</td>\n",
       "      <td>53.3</td>\n",
       "      <td>32.0</td>\n",
       "      <td>22.0</td>\n",
       "      <td>63.0</td>\n",
       "      <td>59.0</td>\n",
       "      <td>41.0</td>\n",
       "      <td>48.942857</td>\n",
       "      <td>72.3</td>\n",
       "      <td>22.0</td>\n",
       "    </tr>\n",
       "    <tr>\n",
       "      <th>4</th>\n",
       "      <td>4</td>\n",
       "      <td>NaN</td>\n",
       "      <td>70.1</td>\n",
       "      <td>54.2</td>\n",
       "      <td>34.0</td>\n",
       "      <td>25.0</td>\n",
       "      <td>60.0</td>\n",
       "      <td>55.0</td>\n",
       "      <td>45.0</td>\n",
       "      <td>49.042857</td>\n",
       "      <td>70.1</td>\n",
       "      <td>25.0</td>\n",
       "    </tr>\n",
       "  </tbody>\n",
       "</table>\n",
       "</div>"
      ],
      "text/plain": [
       "   QUARTER  SY_YOON  JI_MOON  GH_PARK  MB_LEE  MH_ROH  DJ_KIM  YS_KIM  TW_ROH  \\\n",
       "0        0     52.0     79.7     47.4    52.0    60.0    71.0    71.0    29.0   \n",
       "1        1      NaN     72.7     57.5    21.0    40.0    62.0    83.0    57.0   \n",
       "2        2      NaN     69.6     58.2    24.0    29.0    56.0    83.0    53.0   \n",
       "3        3      NaN     72.3     53.3    32.0    22.0    63.0    59.0    41.0   \n",
       "4        4      NaN     70.1     54.2    34.0    25.0    60.0    55.0    45.0   \n",
       "\n",
       "        MEAN   MAX   MIN  \n",
       "0  58.585714  79.7  29.0  \n",
       "1  56.171429  83.0  21.0  \n",
       "2  53.257143  83.0  24.0  \n",
       "3  48.942857  72.3  22.0  \n",
       "4  49.042857  70.1  25.0  "
      ]
     },
     "execution_count": 55,
     "metadata": {},
     "output_type": "execute_result"
    }
   ],
   "source": [
    "app.head()"
   ]
  },
  {
   "cell_type": "markdown",
   "metadata": {},
   "source": [
    "앞의 그래프에서 본 것처럼 대통령 지지도는 정권 초기에는 높게 형성되었다, 임기에 따라 점차 감소하므로 음의 상관관계를 갖는 선형 모델임을 예측할 수 있습니다. 상관계수 및 선형관계를 확인 해 봅니다."
   ]
  },
  {
   "cell_type": "code",
   "execution_count": 56,
   "metadata": {},
   "outputs": [
    {
     "data": {
      "text/plain": [
       "MEAN      -0.964749\n",
       "DJ_KIM    -0.924055\n",
       "YS_KIM    -0.919006\n",
       "MAX       -0.890596\n",
       "JI_MOON   -0.867645\n",
       "GH_PARK   -0.839193\n",
       "TW_ROH    -0.810237\n",
       "MIN       -0.799131\n",
       "MH_ROH    -0.593830\n",
       "MB_LEE    -0.235327\n",
       "QUARTER    1.000000\n",
       "SY_YOON         NaN\n",
       "Name: QUARTER, dtype: float64"
      ]
     },
     "execution_count": 56,
     "metadata": {},
     "output_type": "execute_result"
    }
   ],
   "source": [
    "app.corr().QUARTER.sort_values()"
   ]
  },
  {
   "cell_type": "code",
   "execution_count": 57,
   "metadata": {},
   "outputs": [],
   "source": [
    "mpl.rcParams.update(mpl.rcParamsDefault)  # Pyplot style 해제"
   ]
  },
  {
   "cell_type": "code",
   "execution_count": 58,
   "metadata": {},
   "outputs": [
    {
     "data": {
      "text/plain": [
       "<matplotlib.axes._subplots.AxesSubplot at 0x7f7dfe957a00>"
      ]
     },
     "execution_count": 58,
     "metadata": {},
     "output_type": "execute_result"
    },
    {
     "data": {
      "image/png": "[encoded data removed]",
      "text/plain": [
       "<Figure size 640x480 with 1 Axes>"
      ]
     },
     "metadata": {},
     "output_type": "display_data"
    }
   ],
   "source": [
    "sns.regplot(x='QUARTER', y='MEAN', data=app)"
   ]
  },
  {
   "cell_type": "code",
   "execution_count": 59,
   "metadata": {},
   "outputs": [
    {
     "data": {
      "text/plain": [
       "<matplotlib.axes._subplots.AxesSubplot at 0x7f7dfea397f0>"
      ]
     },
     "execution_count": 59,
     "metadata": {},
     "output_type": "execute_result"
    },
    {
     "data": {
      "image/png": "[encoded data removed]",
      "text/plain": [
       "<Figure size 640x480 with 1 Axes>"
      ]
     },
     "metadata": {},
     "output_type": "display_data"
    }
   ],
   "source": [
    "sns.regplot(x='QUARTER', y='MAX', data=app)"
   ]
  },
  {
   "cell_type": "code",
   "execution_count": 60,
   "metadata": {},
   "outputs": [
    {
     "data": {
      "text/plain": [
       "<matplotlib.axes._subplots.AxesSubplot at 0x7f7dfecc9580>"
      ]
     },
     "execution_count": 60,
     "metadata": {},
     "output_type": "execute_result"
    },
    {
     "data": {
      "image/png": "[encoded data removed]",
      "text/plain": [
       "<Figure size 640x480 with 1 Axes>"
      ]
     },
     "metadata": {},
     "output_type": "display_data"
    }
   ],
   "source": [
    "sns.regplot(x='QUARTER', y='MIN', data=app)"
   ]
  },
  {
   "cell_type": "code",
   "execution_count": 61,
   "metadata": {},
   "outputs": [
    {
     "data": {
      "text/plain": [
       "<matplotlib.axes._subplots.AxesSubplot at 0x7f7dfef389a0>"
      ]
     },
     "execution_count": 61,
     "metadata": {},
     "output_type": "execute_result"
    },
    {
     "data": {
      "image/png": "[encoded data removed]",
      "text/plain": [
       "<Figure size 640x480 with 1 Axes>"
      ]
     },
     "metadata": {},
     "output_type": "display_data"
    }
   ],
   "source": [
    "sns.regplot(x='QUARTER', y='JI_MOON', data=app)"
   ]
  },
  {
   "cell_type": "markdown",
   "metadata": {},
   "source": [
    "정권마다 정치적 이슈로 지지도 등락이 있습니다만, 대부분 음의 상관관계를 보이고 있습니다. 특히 기존 지지도 매 분기 평균과 최대값의 경우, 0.9 이상의 높은 음의 상관관계를 보이고 있으며 선형모델이 잘 적용되는 것을 확인할 수 있습니다.\n",
    "\n",
    "Scikit learn 라이브러리를 활용하여 선형모델을 생성하고 이를 통해 현 정권 지지도와 비교하고, 향후 지지도 하락을 예측해 보도록 합시다."
   ]
  },
  {
   "cell_type": "code",
   "execution_count": 62,
   "metadata": {},
   "outputs": [],
   "source": [
    "lm = LinearRegression()  # Linear model 생성"
   ]
  },
  {
   "cell_type": "code",
   "execution_count": 63,
   "metadata": {},
   "outputs": [
    {
     "data": {
      "text/plain": [
       "0.9307412875896696"
      ]
     },
     "execution_count": 63,
     "metadata": {},
     "output_type": "execute_result"
    }
   ],
   "source": [
    "X = app[['QUARTER']]\n",
    "Y = app.MEAN\n",
    "\n",
    "lm.fit(X, Y)\n",
    "lm.score(X, Y)"
   ]
  },
  {
   "cell_type": "markdown",
   "metadata": {},
   "source": [
    "R-sqaured 값이 0.94로 일부 Noise를 제거하면 거의 선형모델에 일치하고 있음을 보입니다 (정권마다 차이가 있습니다만, 대부분 정권이 상당한 노력에도 불구하고 우리나라 정치 환경 및 국민정서에서는 결국 선형적으로 지지율 하락이 필연적으로 해석할 수도 있겠습니다). 생성된 모델로 예측한 값을 별도 Array로 보관합시다.\n",
    "\n",
    "동일한 작업을 MAX와 JI_MOON열에 대해서도 반복합니다."
   ]
  },
  {
   "cell_type": "code",
   "execution_count": 64,
   "metadata": {},
   "outputs": [
    {
     "data": {
      "text/plain": [
       "array([55.04514966, 53.2152116 , 51.38527354, 49.55533548, 47.72539742,\n",
       "       45.89545936, 44.0655213 , 42.23558324, 40.40564518, 38.57570712,\n",
       "       36.74576907, 34.91583101, 33.08589295, 31.25595489, 29.42601683,\n",
       "       27.59607877, 25.76614071, 23.93620265, 22.10626459, 20.27632653])"
      ]
     },
     "execution_count": 64,
     "metadata": {},
     "output_type": "execute_result"
    }
   ],
   "source": [
    "predict_mean = lm.predict(X)\n",
    "predict_mean"
   ]
  },
  {
   "cell_type": "code",
   "execution_count": 65,
   "metadata": {},
   "outputs": [
    {
     "data": {
      "text/plain": [
       "0.7931612208916566"
      ]
     },
     "execution_count": 65,
     "metadata": {},
     "output_type": "execute_result"
    }
   ],
   "source": [
    "Y = app.MAX\n",
    "\n",
    "lm.fit(X, Y)\n",
    "predict_max = lm.predict(X)\n",
    "lm.score(X, Y)"
   ]
  },
  {
   "cell_type": "code",
   "execution_count": 67,
   "metadata": {},
   "outputs": [
    {
     "data": {
      "text/plain": [
       "0.7528083042326464"
      ]
     },
     "execution_count": 67,
     "metadata": {},
     "output_type": "execute_result"
    }
   ],
   "source": [
    "Y = app.JI_MOON\n",
    "\n",
    "lm.fit(X, Y)  # 문재인 대통령의 경우, 아직 재임 중이므로 지지도가 15분기까지만 있음\n",
    "predict_moon = lm.predict(X)\n",
    "lm.score(X, Y)"
   ]
  },
  {
   "cell_type": "code",
   "execution_count": 68,
   "metadata": {},
   "outputs": [
    {
     "data": {
      "text/plain": [
       "71.02285714285715"
      ]
     },
     "execution_count": 68,
     "metadata": {},
     "output_type": "execute_result"
    }
   ],
   "source": [
    "lm.intercept_"
   ]
  },
  {
   "cell_type": "code",
   "execution_count": 69,
   "metadata": {},
   "outputs": [
    {
     "data": {
      "text/plain": [
       "array([-2.03398496])"
      ]
     },
     "execution_count": 69,
     "metadata": {},
     "output_type": "execute_result"
    }
   ],
   "source": [
    "lm.coef_"
   ]
  },
  {
   "cell_type": "code",
   "execution_count": null,
   "metadata": {},
   "outputs": [],
   "source": [
    "## 무슨 의미인지?\n",
    "float(lm.coef_) * 14.5 + lm.intercept_"
   ]
  },
  {
   "cell_type": "code",
   "execution_count": 70,
   "metadata": {},
   "outputs": [
    {
     "data": {
      "text/html": [
       "<div>\n",
       "<style scoped>\n",
       "    .dataframe tbody tr th:only-of-type {\n",
       "        vertical-align: middle;\n",
       "    }\n",
       "\n",
       "    .dataframe tbody tr th {\n",
       "        vertical-align: top;\n",
       "    }\n",
       "\n",
       "    .dataframe thead th {\n",
       "        text-align: right;\n",
       "    }\n",
       "</style>\n",
       "<table border=\"1\" class=\"dataframe\">\n",
       "  <thead>\n",
       "    <tr style=\"text-align: right;\">\n",
       "      <th></th>\n",
       "      <th>SY_YOON</th>\n",
       "      <th>JI_MOON</th>\n",
       "      <th>GH_PARK</th>\n",
       "      <th>MB_LEE</th>\n",
       "      <th>MH_ROH</th>\n",
       "      <th>DJ_KIM</th>\n",
       "      <th>YS_KIM</th>\n",
       "      <th>TW_ROH</th>\n",
       "      <th>MEAN</th>\n",
       "      <th>MAX</th>\n",
       "      <th>MIN</th>\n",
       "      <th>PRE_MEAN</th>\n",
       "      <th>PRE_MAX</th>\n",
       "      <th>PRE_MOON</th>\n",
       "    </tr>\n",
       "    <tr>\n",
       "      <th>QUARTER</th>\n",
       "      <th></th>\n",
       "      <th></th>\n",
       "      <th></th>\n",
       "      <th></th>\n",
       "      <th></th>\n",
       "      <th></th>\n",
       "      <th></th>\n",
       "      <th></th>\n",
       "      <th></th>\n",
       "      <th></th>\n",
       "      <th></th>\n",
       "      <th></th>\n",
       "      <th></th>\n",
       "      <th></th>\n",
       "    </tr>\n",
       "  </thead>\n",
       "  <tbody>\n",
       "    <tr>\n",
       "      <th>0</th>\n",
       "      <td>52.0</td>\n",
       "      <td>79.7</td>\n",
       "      <td>47.4</td>\n",
       "      <td>52.0</td>\n",
       "      <td>60.0</td>\n",
       "      <td>71.0</td>\n",
       "      <td>71.0</td>\n",
       "      <td>29.0</td>\n",
       "      <td>58.585714</td>\n",
       "      <td>79.7</td>\n",
       "      <td>29.0</td>\n",
       "      <td>55.045150</td>\n",
       "      <td>76.194286</td>\n",
       "      <td>71.022857</td>\n",
       "    </tr>\n",
       "    <tr>\n",
       "      <th>1</th>\n",
       "      <td>NaN</td>\n",
       "      <td>72.7</td>\n",
       "      <td>57.5</td>\n",
       "      <td>21.0</td>\n",
       "      <td>40.0</td>\n",
       "      <td>62.0</td>\n",
       "      <td>83.0</td>\n",
       "      <td>57.0</td>\n",
       "      <td>56.171429</td>\n",
       "      <td>83.0</td>\n",
       "      <td>21.0</td>\n",
       "      <td>53.215212</td>\n",
       "      <td>73.856466</td>\n",
       "      <td>68.988872</td>\n",
       "    </tr>\n",
       "    <tr>\n",
       "      <th>2</th>\n",
       "      <td>NaN</td>\n",
       "      <td>69.6</td>\n",
       "      <td>58.2</td>\n",
       "      <td>24.0</td>\n",
       "      <td>29.0</td>\n",
       "      <td>56.0</td>\n",
       "      <td>83.0</td>\n",
       "      <td>53.0</td>\n",
       "      <td>53.257143</td>\n",
       "      <td>83.0</td>\n",
       "      <td>24.0</td>\n",
       "      <td>51.385274</td>\n",
       "      <td>71.518647</td>\n",
       "      <td>66.954887</td>\n",
       "    </tr>\n",
       "    <tr>\n",
       "      <th>3</th>\n",
       "      <td>NaN</td>\n",
       "      <td>72.3</td>\n",
       "      <td>53.3</td>\n",
       "      <td>32.0</td>\n",
       "      <td>22.0</td>\n",
       "      <td>63.0</td>\n",
       "      <td>59.0</td>\n",
       "      <td>41.0</td>\n",
       "      <td>48.942857</td>\n",
       "      <td>72.3</td>\n",
       "      <td>22.0</td>\n",
       "      <td>49.555335</td>\n",
       "      <td>69.180827</td>\n",
       "      <td>64.920902</td>\n",
       "    </tr>\n",
       "    <tr>\n",
       "      <th>4</th>\n",
       "      <td>NaN</td>\n",
       "      <td>70.1</td>\n",
       "      <td>54.2</td>\n",
       "      <td>34.0</td>\n",
       "      <td>25.0</td>\n",
       "      <td>60.0</td>\n",
       "      <td>55.0</td>\n",
       "      <td>45.0</td>\n",
       "      <td>49.042857</td>\n",
       "      <td>70.1</td>\n",
       "      <td>25.0</td>\n",
       "      <td>47.725397</td>\n",
       "      <td>66.843008</td>\n",
       "      <td>62.886917</td>\n",
       "    </tr>\n",
       "  </tbody>\n",
       "</table>\n",
       "</div>"
      ],
      "text/plain": [
       "         SY_YOON  JI_MOON  GH_PARK  MB_LEE  MH_ROH  DJ_KIM  YS_KIM  TW_ROH  \\\n",
       "QUARTER                                                                      \n",
       "0           52.0     79.7     47.4    52.0    60.0    71.0    71.0    29.0   \n",
       "1            NaN     72.7     57.5    21.0    40.0    62.0    83.0    57.0   \n",
       "2            NaN     69.6     58.2    24.0    29.0    56.0    83.0    53.0   \n",
       "3            NaN     72.3     53.3    32.0    22.0    63.0    59.0    41.0   \n",
       "4            NaN     70.1     54.2    34.0    25.0    60.0    55.0    45.0   \n",
       "\n",
       "              MEAN   MAX   MIN   PRE_MEAN    PRE_MAX   PRE_MOON  \n",
       "QUARTER                                                          \n",
       "0        58.585714  79.7  29.0  55.045150  76.194286  71.022857  \n",
       "1        56.171429  83.0  21.0  53.215212  73.856466  68.988872  \n",
       "2        53.257143  83.0  24.0  51.385274  71.518647  66.954887  \n",
       "3        48.942857  72.3  22.0  49.555335  69.180827  64.920902  \n",
       "4        49.042857  70.1  25.0  47.725397  66.843008  62.886917  "
      ]
     },
     "execution_count": 70,
     "metadata": {},
     "output_type": "execute_result"
    }
   ],
   "source": [
    "apprate['PRE_MEAN'] = predict_mean\n",
    "apprate['PRE_MAX'] = predict_max\n",
    "apprate['PRE_MOON'] = predict_moon\n",
    "\n",
    "apprate.head()"
   ]
  },
  {
   "cell_type": "code",
   "execution_count": 71,
   "metadata": {
    "scrolled": false
   },
   "outputs": [
    {
     "data": {
      "image/png": "[encoded data removed]",
      "text/plain": [
       "<Figure size 1000x600 with 1 Axes>"
      ]
     },
     "metadata": {},
     "output_type": "display_data"
    }
   ],
   "source": [
    "plt.style.use('fivethirtyeight')  # Fivethirtyeight 그래프 스타일 적용\n",
    "\n",
    "fig = plt.figure(figsize=(10, 6))\n",
    "ax = fig.add_subplot(111)\n",
    "\n",
    "labels = ['#19. Moon Jae-in', '#13 to 18_MAX', '#13 to 18_MEAN', '#19 Prediction by Linear Model']\n",
    "\n",
    "ax.plot(apprate.index, apprate.loc[:, 'JI_MOON'], marker='o', ls='-', linewidth=3)\n",
    "ax.plot(apprate.index, apprate.loc[:, 'PRE_MEAN':'PRE_MOON'], ls='--', linewidth=1.5)\n",
    "\n",
    "ax.set_ylim(0, 100)\n",
    "ax.set_xlim(0, 20)\n",
    "ax.set_xticks(np.arange(2, 22, step=2))\n",
    "\n",
    "plt.legend((labels), fontsize=10)\n",
    "\n",
    "plt.title('Korea President Approving Rate with Linear Model', fontsize=16)\n",
    "plt.xlabel('Quater', fontsize=12)\n",
    "plt.ylabel('President Approving Rate', fontsize=12)\n",
    "\n",
    "plt.show()"
   ]
  },
  {
   "cell_type": "markdown",
   "metadata": {},
   "source": [
    "## 5. Discussion"
   ]
  },
  {
   "cell_type": "markdown",
   "metadata": {},
   "source": [
    "현 19대 정부의 지지도(#19. Moon Jae-in)는 기존 13대부터 18대 정부 지지도 평균을 상회하며 유지되고 있고, 선형 회귀선이 기존 정부들의 분기별 최대값과 거의 유사하게 거동하고 있는 것을 볼 때 가장 인기있는 정부라고 말할 수 있을 것 같습니다. \n",
    "\n",
    "최근 각종 매체에서 현 정부 지지율이 역대 최저로 떨어졌다는 뉴스가 자극적으로 나오고 있습니다만, 기존 정부을 이력을 확인할 때 모든 정부에서 임기가 진행됨에 따라 지지도 하락은 필연적으로 발생하였고 그 평균값을 선형 모델에 굉장히 잘 일치합니다.\n",
    "    \n",
    "12월 초 진행된 대통령 지지도 조사에서 40%의 콘크리트 지지율이 무너졌다며 모든 매체에서 대서특필하고 있습니다([관련 기사 링크](https://www.donga.com/news/Politics/article/all/20201205/104297349/1)). 해당 지지율은 39%입니다. 반면 위의 선형모델로 예측된 14.5분기 19대 정부 지지도는 37.5%입니다. 즉 현 정부 지지도는 임기 초부터 하락한 기존 결과값과 아직 유사하게 거동하고 있는 것으로 보입니다."
   ]
  },
  {
   "cell_type": "code",
   "execution_count": null,
   "metadata": {},
   "outputs": [],
   "source": [
    "float(lm.coef_) * 14.5 + lm.intercept_   # Linear model, 14.5분기 적용 시"
   ]
  },
  {
   "cell_type": "markdown",
   "metadata": {},
   "source": [
    "따라서 현 정부 지지율이 집권 이후 최저라는 뉴스는 당연한 사실이 자극적으로 포장되었을 가능성을 내포하고 있으며, 이보다는 아래의 지표로 현 정부 지지율을 판단하는 것이 합리적으로 보입니다.\n",
    "\n",
    "1. 선형 모델 대비한 현 정부 지지도 비교\n",
    "    * '#19 Prediction by Linear Model'은 현재까지 19대 정부의 지지도를 바탕으로 생성된 선형 모델입니다. 만약 남은 임기에서 조사되는 지지도가 해당 모델보다 빠르게 하락한다면, 현 정부 지지도가 정권 초기 대비하여 하락폭이 크다라고 말할 수 있을 것입니다.\n",
    "2. 기존 정부 평균에 대비한 현 정부 지지도 비교\n",
    "    * 앞서 지적한 것처럼 19대 정부에 대한 여러 논란에도 불구하고, 현 정부의 인기도는 기존 정부 대비하여 상당히 높은 편입니다. 현재까지는 기존 지지도 최대값과 거의 유사한 수준에서 거동 중이나 만약 남은 임기에서 지지도 하락이 평균선에 근접하거나 이보다 하락한다면 현 정부 지지도가 크게 하락하여 정국 운영에 상당한 어려움이 될 것을 예상할 수 있습니다."
   ]
  },
  {
   "cell_type": "markdown",
   "metadata": {},
   "source": [
    "## 6. Conclusion"
   ]
  },
  {
   "cell_type": "markdown",
   "metadata": {},
   "source": [
    "대통령 지지도 조사는 현 정부 및 정권에 대한 국민 여론의 바로미터이기 때문에 많은 정치 평론가들이 나름의 정치적 분석을 내놓고 이를 가지고 설왕설래하는 뜨거운 주제입니다. 반면 국민 정서로 통용되는 다른 정성적인 근거에 비해 매주 수치로 조사되는 잘 정리된 데이터 집합이기도 합니다.\n",
    "\n",
    "본 분석에서는 한국갤럽 조사 결과를 바탕으로 13대부터 19대 현 정부까지의 대통령 지지도를 정치적 시각을 배제한 데이터 관점에서 분석을 수행하였습니다. 그리고 이를 통해 대통령 지지도는 임기에 따른 선형모델로 상당히 높은 정확도로 설명 가능하며, 지지도 하락이 필연적임을 확인하였습니다.\n",
    "\n",
    "상기에서 적용된 모델이 1차 선형회귀로 가장 단순한 모델임에도 불구하고 대부분의 언론 및 매체에서 해당 내용에 대한 간단한 이해도 없이 현재값을 수 주, 혹은 수 개월 전의 값과 비교하며 여러가지 문제를 제기하는 것은 그다지 합리적으로 보이지 않습니다. 정치적인 해법도 중요하지만 때로는 데이터에 기반한 논평이 진행되어야 해당 여론 조사가 좀더 목저게 부합한 형태로 사용되는 것이 아닐까하는 생각을 합니다."
   ]
  }
 ],
 "metadata": {
  "kernelspec": {
   "display_name": "Python 3",
   "language": "python",
   "name": "python3"
  },
  "language_info": {
   "codemirror_mode": {
    "name": "ipython",
    "version": 3
   },
   "file_extension": ".py",
   "mimetype": "text/x-python",
   "name": "python",
   "nbconvert_exporter": "python",
   "pygments_lexer": "ipython3",
   "version": "3.8.3"
  }
 },
 "nbformat": 4,
 "nbformat_minor": 4
}
